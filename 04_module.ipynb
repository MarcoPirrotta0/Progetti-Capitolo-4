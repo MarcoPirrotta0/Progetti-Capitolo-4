{
 "cells": [
  {
   "cell_type": "markdown",
   "id": "10372b30",
   "metadata": {},
   "source": [
    "# Esercizi 4° modulo\n",
    "- Le espressioni regolari"
   ]
  },
  {
   "cell_type": "code",
   "execution_count": 1,
   "id": "94b3d272",
   "metadata": {},
   "outputs": [
    {
     "name": "stdout",
     "output_type": "stream",
     "text": [
      "['serpente', 'simpatico', 'svelto', 'scivola', 'sulla', 'sabbia', 'scaldata', 'sole']\n"
     ]
    }
   ],
   "source": [
    "import re\n",
    "stringa = \"Sono un serpente simpatico e svelto che scivola sulla sabbia rovente scaldata dal sole.\"\n",
    "matches = re.findall(r\"\\bs\\w+\", stringa)\n",
    "    # cerca tutte le corrispondenze di una espressione regolare all'interno di una stringa\n",
    "    # \\bs\\w+ :tutte le parole che iniziano con s seguita da uno o più caratteri\n",
    "    # \\b inizio a bordo della parola, cioè con uno spazio, un carattere di punteggiatura o l'inizio della stringa\n",
    "    # s indica la lettera che stiamo cercando\n",
    "    # w+ indica uno o più caratteri alfanumerici\n",
    "print(matches)"
   ]
  },
  {
   "cell_type": "code",
   "execution_count": null,
   "id": "343a773c",
   "metadata": {},
   "outputs": [],
   "source": [
    "'''\n",
    ". indica un singolo carattere\n",
    "^ l'inizio di una stringa\n",
    ".? operatore non avido\n",
    "+ carattere deve comparire almeno una volta\n",
    "* il carattere precedente può comparire zero o più volte\n",
    "* + ? m n non posso essere nidificati\n",
    "    per applicare una seconda ripetizione servono le parentesi \n",
    "\n",
    "'''"
   ]
  },
  {
   "cell_type": "code",
   "execution_count": 2,
   "id": "1c6962f9",
   "metadata": {},
   "outputs": [
    {
     "name": "stdout",
     "output_type": "stream",
     "text": [
      "Trovato!\n"
     ]
    }
   ],
   "source": [
    "import re\n",
    "stringa = \"La casa è grande.\"\n",
    "pattern = \"gr.nde\" # qualsiasi carattere tr gr e nde\n",
    "trovato = re.search(pattern, stringa)\n",
    "if trovato:\n",
    "    print(\"Trovato!\")\n",
    "else:\n",
    "    print(\"Non trovato.\")"
   ]
  },
  {
   "cell_type": "code",
   "execution_count": 4,
   "id": "5a94ea07",
   "metadata": {},
   "outputs": [
    {
     "name": "stdout",
     "output_type": "stream",
     "text": [
      "Trovato!\n"
     ]
    }
   ],
   "source": [
    "import re\n",
    "stringa = \"La casa è grande.\\nMa è anche un po' vecchia.\"\n",
    "pattern = \"gr.nde\"\n",
    "trovato = re.search(pattern, stringa, re.DOTALL) # dotall è uguale a qualsiasi caratter inclusa la nuova riga\n",
    "if trovato:\n",
    "    print(\"Trovato!\")\n",
    "else:\n",
    "    print(\"Non trovato.\")"
   ]
  },
  {
   "cell_type": "code",
   "execution_count": 5,
   "id": "00424d5f",
   "metadata": {},
   "outputs": [
    {
     "name": "stdout",
     "output_type": "stream",
     "text": [
      "Trovato!\n"
     ]
    }
   ],
   "source": [
    "# ^ Il cappuccio va all'inizio della stringa di cui trovare la corrispondenza:\n",
    "# il pattern ^La corrisponde alla stringa la solo se si trova all'inizio\n",
    "import re\n",
    "stringa = \"La casa è grande.\"\n",
    "pattern = \"^La\"\n",
    "trovato = re.search(pattern, stringa)\n",
    "if trovato:\n",
    "    print(\"Trovato!\")\n",
    "else:\n",
    "    print(\"Non trovato.\")"
   ]
  },
  {
   "cell_type": "code",
   "execution_count": 8,
   "id": "5a64c2eb",
   "metadata": {},
   "outputs": [
    {
     "name": "stdout",
     "output_type": "stream",
     "text": [
      "Trovato!\n"
     ]
    }
   ],
   "source": [
    "# $ va alla fine della stringa di cui trovare la corrispondenza\n",
    "import re\n",
    "stringa = \"La casa è grande.\"\n",
    "pattern = \"grande?\"\n",
    "trovato = re.search(pattern, stringa)\n",
    "if trovato:\n",
    "    print(\"Trovato!\")\n",
    "else:\n",
    "    print(\"Non trovato.\")\n",
    "# ? indica che il carattere può comparire zero o una volta"
   ]
  },
  {
   "cell_type": "code",
   "execution_count": 9,
   "id": "2256783c",
   "metadata": {},
   "outputs": [
    {
     "name": "stdout",
     "output_type": "stream",
     "text": [
      "<re.Match object; span=(1, 4), match='bbc'>\n"
     ]
    }
   ],
   "source": [
    "import re\n",
    "stringa = \"abbcccddddeeeee\"\n",
    "pattern = \"b*c\"\n",
    "trovato = re.search(pattern, stringa)\n",
    "print(trovato)\n",
    "# * Fa sì che la risultante corrisponda a nessuna o più ripetizioni della precedente.\n",
    "# Per esempio, b*c corrisponderà a 'b', 'bc' o 'b' seguito da qualsiasi numero di 'b' e 'c':"
   ]
  },
  {
   "cell_type": "code",
   "execution_count": null,
   "id": "1be07e54",
   "metadata": {},
   "outputs": [],
   "source": [
    "import re\n",
    "stringa = \"abbcccddddeeeee\"\n",
    "pattern = \"b+c\"\n",
    "trovato = re.search(pattern, stringa)\n",
    "print(trovato)\n",
    "# + Fa sì che la risultante corrisponda a 1 o più ripetizioni della precedente.\n",
    "# b+c corrisponderà a uno o più 'b' seguito da un 'c':"
   ]
  },
  {
   "cell_type": "code",
   "execution_count": 11,
   "id": "0baf14d6",
   "metadata": {},
   "outputs": [
    {
     "name": "stdout",
     "output_type": "stream",
     "text": [
      "Trovato con *?: \n",
      "Trovato con +?: a\n",
      "Trovato con ??: \n"
     ]
    }
   ],
   "source": [
    "import re\n",
    "stringa = \"aaaaaa\"\n",
    "pattern1 = \"a*?\"\n",
    "pattern2 = \"a+?\"\n",
    "pattern3 = \"a??\"\n",
    "trovato1 = re.search(pattern1, stringa)\n",
    "trovato2 = re.search(pattern2, stringa)\n",
    "trovato3 = re.search(pattern3, stringa)\n",
    "if trovato1:\n",
    "    print(\"Trovato con *?:\", trovato1.group())\n",
    "else:\n",
    "    print(\"Non trovato con *?.\")\n",
    "if trovato2:\n",
    "    print(\"Trovato con +?:\", trovato2.group())\n",
    "else:\n",
    "    print(\"Non trovato con +?.\")\n",
    "if trovato3:\n",
    "    print(\"Trovato con ??:\", trovato3.group())\n",
    "else:\n",
    "    print(\"Non trovato con ??.\")\n",
    "# il pattern a*? corrisponde a qualsiasi ripetizione di a"
   ]
  },
  {
   "cell_type": "code",
   "execution_count": null,
   "id": "e02fd582",
   "metadata": {},
   "outputs": [],
   "source": [
    "'''\n",
    "{x} specifica che devono corrispondere esattametne x copie della precedente. \n",
    "se ve ne fossero di meno, l'intera espressione non corrisponderebbe\n",
    "{x, y} corrisponda da x a y ripetizioni della precedente. cercando il maggiore numero di ripetizioni\n",
    "{x, y}? come prima ma con il minor numero di ripetizioni\n",
    "'''"
   ]
  },
  {
   "cell_type": "code",
   "execution_count": 12,
   "id": "3f255ca5",
   "metadata": {},
   "outputs": [
    {
     "name": "stdout",
     "output_type": "stream",
     "text": [
      "Trovato con \\d{3}: 123\n",
      "Trovato con \\d{3,5}: 12345\n",
      "Trovato con \\d{3,5}?: 123\n"
     ]
    }
   ],
   "source": [
    "import re\n",
    "stringa = \"1234567890\"\n",
    "pattern1 = \"\\d{3}\"\n",
    "pattern2 = \"\\d{3,5}\"\n",
    "pattern3 = \"\\d{3,5}?\"\n",
    "trovato1 = re.search(pattern1, stringa)\n",
    "trovato2 = re.search(pattern2, stringa)\n",
    "trovato3 = re.search(pattern3, stringa)\n",
    "if trovato1:\n",
    "    print(\"Trovato con {}: {}\".format(pattern1, trovato1.group()))\n",
    "else:\n",
    "    print(\"Non trovato con {}.\".format(pattern1))\n",
    "if trovato2:\n",
    "    print(\"Trovato con {}: {}\".format(pattern2, trovato2.group()))\n",
    "else:\n",
    "    print(\"Non trovato con {}.\".format(pattern2))\n",
    "if trovato3:\n",
    "    print(\"Trovato con {}: {}\".format(pattern3, trovato3.group()))\n",
    "else:\n",
    "    print(\"Non trovato con {}.\".format(pattern3))\n",
    "# \\d{3} corrisponde a tre cifre consecutive\n",
    "# \\d{3, 5} corrisponde da tre a cinque cifre consecutive\n",
    "# \\d{3, 5}? come prima ma in modo avido, quindi prende la corrispondenza più corta"
   ]
  },
  {
   "cell_type": "code",
   "execution_count": 13,
   "id": "0feef1f4",
   "metadata": {},
   "outputs": [
    {
     "name": "stdout",
     "output_type": "stream",
     "text": [
      "Trovato con cane|gatto: cane\n"
     ]
    }
   ],
   "source": [
    "import re\n",
    "stringa = \"cane gatto pesce\"\n",
    "pattern = \"cane|gatto\"\n",
    "trovato = re.search(pattern, stringa)\n",
    "if trovato:\n",
    "    print(\"Trovato con {}: {}\".format(pattern, trovato.group()))\n",
    "else:\n",
    "    print(\"Non trovato con {}.\".format(pattern))\n",
    "# | indica OR"
   ]
  },
  {
   "cell_type": "code",
   "execution_count": null,
   "id": "e25744aa",
   "metadata": {},
   "outputs": [],
   "source": [
    "import re\n",
    "stringa = \"Il gatto è un animale domestico\"\n",
    "pattern = r\"(gatto).*(domestico)\"\n",
    "trovato = re.search(pattern, stringa)\n",
    "if trovato:\n",
    "    print(\"Trovato con {}: {}\".format(pattern, trovato.group()))\n",
    "    print(\"Gruppo 1: {}\".format(trovato.group(1)))\n",
    "    print(\"Gruppo 2: {}\".format(trovato.group(2)))\n",
    "else:\n",
    "    print(\"Non trovato con {}.\".format(pattern))\n",
    "# (...) corrisponde a qualunque espressione regolare si trovi all'interno delle parentesi\n",
    "# (?...) il primo carattere dopo il ? determina qual è il significato\n",
    "# (?!...) è un'affermazione di previsione negativa\n",
    "# (?#...) serve per aggiungere un commento, il contenuto della parentesi verrà ignorato\n",
    "# (?=...) lookahead, controlla avanti se ci sono i ...\n",
    "# (?<=...) asserzione lookbehind positiva\n",
    "# (?P=nome) backreference a un gruppo denominato\n",
    "# (?P<nome>...)la sottostringa corrispondente al gruppo è accessibile con il nome simbolico del gruppo"
   ]
  },
  {
   "cell_type": "code",
   "execution_count": 14,
   "id": "2b567e06",
   "metadata": {},
   "outputs": [
    {
     "name": "stdout",
     "output_type": "stream",
     "text": [
      "Corrispondenza trovata!\n",
      "La parola trovata è: Python\n"
     ]
    }
   ],
   "source": [
    "import re\n",
    "regex = r'(?u)(?i)\\b(?P<first_letter>[A-Z])(?P<rest_of_word>[a-z]*) (?#una parola che inizia con lettera maiuscola)\\b'\n",
    "# Proviamo a cercare la corrispondenza nella stringa data\n",
    "string = 'Python is an interpreted high-level programming language for generalpurpose programming'\n",
    "match = re.search(regex, string)\n",
    "# Verifichiamo se la corrispondenza è stata trovata\n",
    "if match:\n",
    "    print(\"Corrispondenza trovata!\")\n",
    "    print(\"La parola trovata è:\", match.group(\"first_letter\") +\n",
    "    match.group(\"rest_of_word\"))\n",
    "else:\n",
    "    print(\"Nessuna corrispondenza trovata.\")\n",
    "'''\n",
    "Nell’esempio, la regex cerca una parola che inizia con una lettera maiuscola, seguita da zero o più\n",
    "lettere minuscole. Per farlo ha utilizzato alcuni di questi operatori:\n",
    "(?P<name>...) usato per definire un gruppo di cattura con un nome specifico, nell'esempio:\n",
    "(\"first_letter\" e \"rest_of_word\").\n",
    "(?u) per attivare la modalità Unicode.\n",
    "(?i) per rendere la ricerca non case-sensitive.\n",
    "(?#...) per inserire un commento all'interno dell'espressione regolare;\n",
    "(?=...) per creare una lookahead positiva e verificare se la parola è racchiusa da bordi di parola.\n",
    "(?:...) per creare un gruppo non di cattura per le lettere minuscole.\n",
    "'''"
   ]
  },
  {
   "cell_type": "code",
   "execution_count": 15,
   "id": "75e5f829",
   "metadata": {},
   "outputs": [
    {
     "name": "stdout",
     "output_type": "stream",
     "text": [
      "Trovato con (?i)(?<=\\b)gatto(?=\\b): gatto\n"
     ]
    }
   ],
   "source": [
    "import re\n",
    "stringa = \"Il gatto è un animale domestico\"\n",
    "pattern = r\"(?i)(?<=\\b)gatto(?=\\b)\"\n",
    "trovato = re.search(pattern, stringa)\n",
    "if trovato:\n",
    "    print(\"Trovato con {}: {}\".format(pattern, trovato.group()))\n",
    "else:\n",
    "    print(\"Non trovato con {}.\".format(pattern))\n",
    "# (?i) specifica la modalità insensibile alle maiuscole/minuscole\n",
    "# (?<=\\b) utilizza una lookbehind per cercare la parola gatto che sia preceduta da un carattere diconfine, cioè uno spazio, un inizio di stringa o un simbolo di punteggiatura.\n",
    "# (?=\\b) utilizza una lookahead per cercare la parola gatto che sia seguita da un carattere di confine."
   ]
  },
  {
   "cell_type": "code",
   "execution_count": 16,
   "id": "bc40cd01",
   "metadata": {},
   "outputs": [
    {
     "name": "stdout",
     "output_type": "stream",
     "text": [
      "Numeri trovati:  []\n",
      "Spazi trovati:  [' ', ' ', ' ', ' ', ' ', ' ', ' ', ' ', ' ', ' ', ' ']\n",
      "Lettere e numeri trovati:  ['Questo', 'è', 'un', 'esempio', 'di', 'regex', 'con', 'd', 's', 'w', 'e']\n",
      "Bordi di parola trovati:  ['Questo', 'è', 'un', 'esempio', 'di', 'regex', 'con', 'd', 's', 'w', 'e']\n"
     ]
    }
   ],
   "source": [
    "import re\n",
    "# stringa di test\n",
    "string = \"Questo è un esempio di regex con \\d, \\s, \\w e \\b\"\n",
    "# cerchiamo tutti i numeri\n",
    "pattern1 = r\"\\d+\"\n",
    "matches1 = re.findall(pattern1, string)\n",
    "print(\"Numeri trovati: \", matches1)\n",
    "# cerchiamo tutti gli spazi\n",
    "pattern2 = r\"\\s+\"\n",
    "matches2 = re.findall(pattern2, string)\n",
    "print(\"Spazi trovati: \", matches2)\n",
    "# cerchiamo tutte le lettere o i numeri\n",
    "pattern3 = r\"\\w+\"\n",
    "matches3 = re.findall(pattern3, string)\n",
    "print(\"Lettere e numeri trovati: \", matches3)\n",
    "# cerchiamo tutti i bordi di parola\n",
    "pattern4 = r\"\\b\\w+\"\n",
    "matches4 = re.findall(pattern4, string)\n",
    "print(\"Bordi di parola trovati: \", matches4)\n",
    "# \\d+ cerca tutti i numeri all'interno della stringa\n",
    "# \\s+ cerca tutti gli spazi all'interno della stringa\n",
    "# \\w+ cerca tutte le lettere e i numeri all'interno della stringa"
   ]
  },
  {
   "cell_type": "code",
   "execution_count": 17,
   "id": "5a0ee99a",
   "metadata": {},
   "outputs": [
    {
     "name": "stdout",
     "output_type": "stream",
     "text": [
      "Numeri trovati:  ['1', '2', '3', '4', '5', '6']\n",
      "Caratteri non numerici trovati:  ['a', 'b', ' ', 'c', 'd', '_', 'e', 'f']\n",
      "Spazi vuoti trovati:  [' ']\n",
      "Caratteri non spazi vuoti trovati:  ['1', 'a', '2', 'b', '3', 'c', '4', 'd', '_', '5', 'e', '6', 'f']\n",
      "Caratteri alfanumerici trovati:  ['1a2b', '3c4d_5e6f']\n",
      "Caratteri non alfanumerici trovati:  [' ']\n"
     ]
    }
   ],
   "source": [
    "import re\n",
    "# stringa di test\n",
    "string = \"1a2b 3c4d_5e6f\"\n",
    "# cerchiamo tutte i numeri\n",
    "pattern1 = r\"\\d\"\n",
    "matches1 = re.findall(pattern1, string)\n",
    "print(\"Numeri trovati: \", matches1)\n",
    "# cerchiamo tutti i caratteri che non sono numeri\n",
    "pattern2 = r\"\\D\"\n",
    "matches2 = re.findall(pattern2, string)\n",
    "print(\"Caratteri non numerici trovati: \", matches2)\n",
    "# cerchiamo tutti gli spazi vuoti\n",
    "pattern3 = r\"\\s\"\n",
    "matches3 = re.findall(pattern3, string)\n",
    "print(\"Spazi vuoti trovati: \", matches3)\n",
    "# cerchiamo tutti i caratteri che non sono spazi vuoti\n",
    "pattern4 = r\"\\S\"\n",
    "matches4 = re.findall(pattern4, string)\n",
    "print(\"Caratteri non spazi vuoti trovati: \", matches4)\n",
    "# cerchiamo tutte i caratteri alfanumerici\n",
    "pattern5 = r\"\\w+\"\n",
    "matches5 = re.findall(pattern5, string)\n",
    "print(\"Caratteri alfanumerici trovati: \", matches5)\n",
    "# cerchiamo tutti i caratteri non alfanumerici\n",
    "pattern6 = r\"\\W+\"\n",
    "matches6 = re.findall(pattern6, string)\n",
    "print(\"Caratteri non alfanumerici trovati: \", matches6)"
   ]
  },
  {
   "cell_type": "code",
   "execution_count": 18,
   "id": "9a564a66",
   "metadata": {},
   "outputs": [
    {
     "name": "stdout",
     "output_type": "stream",
     "text": [
      "Citazioni trovate:  ['\"citazioni\"']\n",
      "Apici trovati:  [\"'apici'\"]\n",
      "Parole con la lettera A trovate:  ['Questa']\n",
      "Parole con la lettera S o C trovate:  ['s', 'c', 'c']\n"
     ]
    }
   ],
   "source": [
    "import re\n",
    "# stringa di test\n",
    "string = \"Questa è una stringa di test contenente \\\"citazioni\\\" e 'apici'.\"\n",
    "# cerchiamo tutte le citazioni\n",
    "pattern1 = r\"\\\"[^\\\"]+\\\"\"\n",
    "matches1 = re.findall(pattern1, string)\n",
    "print(\"Citazioni trovate: \", matches1)\n",
    "# cerchiamo tutti gli apici\n",
    "pattern2 = r\"\\'[^\\']+\\'\"\n",
    "matches2 = re.findall(pattern2, string)\n",
    "print(\"Apici trovati: \", matches2)\n",
    "# cerchiamo tutte le parole con la lettera \"a\" maiuscola\n",
    "pattern3 = r\"\\b[A-Z][a-z]*a\\w*\\b\"\n",
    "matches3 = re.findall(pattern3, string)\n",
    "print(\"Parole con la lettera A trovate: \", matches3)\n",
    "# cerchiamo tutte le parole che iniziano con s oppure c\n",
    "pattern4 = r\"\\b(s|c)\\w*\\b\"\n",
    "matches4 = re.findall(pattern4, string)\n",
    "print(\"Parole con la lettera S o C trovate: \", matches4)"
   ]
  },
  {
   "cell_type": "code",
   "execution_count": 20,
   "id": "29eded92",
   "metadata": {},
   "outputs": [
    {
     "name": "stdout",
     "output_type": "stream",
     "text": [
      "Numeri seguiti da lettere minuscole:  ['3a', '6d']\n",
      "Parole che iniziano con lettere minuscole e sono seguite da un numero:  []\n",
      "Sequenze di spazi vuoti, nuove righe e tabulazioni:  [' ', '\\n\\t']\n",
      "Parole che iniziano con una lettera maiuscola e hanno almeno una lettera minuscola:  []\n",
      "Stringa modificata:  123abc !@#\n",
      "\t456def\n"
     ]
    }
   ],
   "source": [
    "import re\n",
    "# stringa su cui verrano eseguite le regex\n",
    "string = \"123abc !@#\\n\\t456def\"\n",
    "# cerchiamo i numeri seguiti da una lettera minuscola\n",
    "pattern1 = r\"\\d[a-z]\"\n",
    "matches1 = re.findall(pattern1, string)\n",
    "print(\"Numeri seguiti da lettere minuscole: \", matches1)\n",
    "# cerchiamo le parole che iniziano con una lettera minuscola seguite da un numero\n",
    "pattern2 = r\"\\b[a-z]\\d\\w*\\b\"\n",
    "matches2 = re.findall(pattern2, string)\n",
    "print(\"Parole che iniziano con lettere minuscole e sono seguite da un numero: \",\n",
    "matches2)\n",
    "# cerchiamo le sequenze di spazi vuoti, nuove righe e tabulazioni\n",
    "pattern3 = r\"[\\s\\n\\t]+\"\n",
    "matches3 = re.findall(pattern3, string)\n",
    "print(\"Sequenze di spazi vuoti, nuove righe e tabulazioni: \", matches3)\n",
    "# cerchiamo la prima occorrenza di un carattere seguito da uno spazio e poi di nuovo da quel carattere\n",
    "pattern4 = r\"(\\w) \\1\"\n",
    "match4 = re.search(pattern4, string)\n",
    "if match4:\n",
    "    print(\"Prima occorrenza di un carattere ripetuto: \", match4.group(0))\n",
    "# cerchiamo la prima occorrenza di una parola che inizia con \"d\" e ha una lettera maiuscola dopo la seconda lettera\n",
    "pattern5 = r\"\\bd\\w{2}[A-Z]\\w*\\b\"\n",
    "match5 = re.search(pattern5, string)\n",
    "if match5:\n",
    "    print(\"Prima occorrenza di una parola che inizia con 'd' e ha una lettera maiuscola dopo la seconda lettera: \", match5.group(0))\n",
    "# cerchiamo tutte le parole che iniziano con una lettera maiuscola e hanno almeno una lettera minuscola\n",
    "pattern6 = r\"\\b[A-Z][a-z]+\\b\"\n",
    "matches6 = re.findall(pattern6, string)\n",
    "print(\"Parole che iniziano con una lettera maiuscola e hanno almeno una lettera minuscola: \", matches6)\n",
    "\n",
    "pattern7 = r\"\\b([A-Z])[a-z]+\\b\"\n",
    "repl7 = lambda match: match.group(1).upper()\n",
    "new_string = re.sub(pattern7, repl7, string)\n",
    "print(\"Stringa modificata: \", new_string)"
   ]
  },
  {
   "cell_type": "code",
   "execution_count": null,
   "id": "60d9ee5b",
   "metadata": {},
   "outputs": [],
   "source": [
    "import re\n",
    "# stringa di test con newline alla fine\n",
    "string = \"Questa è una stringa.\\n\"\n",
    "# troviamo la corrispondenza con \\Z\n",
    "pattern1 = r\"\\.$\\Z\"\n",
    "match1 = re.search(pattern1, string)\n",
    "if match1:\n",
    "    print(\"Trovata corrispondenza con \\Z\")\n",
    "# troviamo la corrispondenza con \\z\n",
    "pattern2 = r\"\\.$\\z\"\n",
    "match2 = re.search(pattern2, string)\n",
    "if match2:\n",
    "    print(\"Trovata corrispondenza con \\z\")"
   ]
  },
  {
   "cell_type": "code",
   "execution_count": 21,
   "id": "25725960",
   "metadata": {},
   "outputs": [
    {
     "name": "stdout",
     "output_type": "stream",
     "text": [
      "Numero di telefono trovato: 123-456-7890\n",
      "Numeri di telefono trovati: ['123-456-7890', '333-444-5555']\n",
      "Stringa modificata: Il numero di telefono dell'ufficio è XXX-XXX-XXXX, ma puoi contattarmi al XXX-XXX-XXXX\n",
      "Stringa splittata: [\"Il numero di telefono dell'ufficio è \", ', ma puoi contattarmi al ', '']\n",
      "Vocali trovate: ['I', 'u', 'e', 'o', 'i', 'e', 'e', 'o', 'o', 'e', 'u', 'i', 'i', 'o', 'a', 'u', 'o', 'i', 'o', 'a', 'a', 'i', 'a']\n",
      "Stringa escapata: La\\ mia\\ email\\ è:\\ \\?!@example\\.com\n",
      "Match trovato: foo\n"
     ]
    }
   ],
   "source": [
    "import re\n",
    "# definiamo una stringa di esempio\n",
    "stringa = \"Il numero di telefono dell'ufficio è 123-456-7890, ma puoi contattarmi al 333-444-5555\"\n",
    "# compiliamo un pattern per cercare numeri di telefono\n",
    "pattern = re.compile(r'\\d{3}-\\d{3}-\\d{4}')\n",
    "# cerchiamo il primo match del pattern nella stringa\n",
    "match = re.search(pattern, stringa)\n",
    "if match:\n",
    "    print(\"Numero di telefono trovato:\", match.group())\n",
    "else:\n",
    "    print(\"Nessun numero di telefono trovato\")\n",
    "# troviamo tutti i numeri di telefono nella stringa\n",
    "numeri = re.findall(pattern, stringa)\n",
    "print(\"Numeri di telefono trovati:\", numeri)\n",
    "# sostituiamo tutti i numeri di telefono con \"XXX-XXX-XXXX\"\n",
    "nuova_stringa = re.sub(pattern, \"XXX-XXX-XXXX\", stringa)\n",
    "print(\"Stringa modificata:\", nuova_stringa)\n",
    "# splittiamo la stringa utilizzando i numeri di telefono come separatori\n",
    "split = re.split(pattern, stringa)\n",
    "print(\"Stringa splittata:\", split)\n",
    "# compiliamo un nuovo pattern per cercare le vocali\n",
    "pattern2 = re.compile(r'[aeiou]', flags=re.IGNORECASE)\n",
    "# cerchiamo tutte le occorrenze delle vocali nella stringa\n",
    "vocali = [match.group() for match in re.finditer(pattern2, stringa)]\n",
    "print(\"Vocali trovate:\", vocali)\n",
    "# escapiamo un carattere non alfanumerico nella stringa\n",
    "stringa_escapata = re.escape(\"La mia email è: ?!@example.com\")\n",
    "print(\"Stringa escapata:\", stringa_escapata)\n",
    "# utilizziamo il flag VERBOSE per rendere il pattern più leggibile\n",
    "pattern3 = re.compile(r'''\n",
    "\\b # Inizio di una parola\n",
    "foo # La stringa \"foo\"\n",
    "\\b # Fine di una parola\n",
    "''', flags=re.VERBOSE)\n",
    "# cerchiamo il match del pattern3 nella stringa\n",
    "match2 = re.match(pattern3, \"foo bar baz\")\n",
    "if match2:\n",
    "    print(\"Match trovato:\", match2.group())\n",
    "else:\n",
    "    print(\"Nessun match trovato\")"
   ]
  },
  {
   "cell_type": "code",
   "execution_count": 22,
   "id": "74ed86cf",
   "metadata": {},
   "outputs": [
    {
     "name": "stdout",
     "output_type": "stream",
     "text": [
      "['Alba', 'arancia', 'agrifoglio', 'ape']\n"
     ]
    }
   ],
   "source": [
    "import re\n",
    "testo = \"Alba, arancia, agrifoglio, banana, ape\"\n",
    "pattern = re.compile(r\"\\b(a\\w*)\", re.IGNORECASE)\n",
    "risultati = pattern.findall(testo)\n",
    "print(risultati)"
   ]
  },
  {
   "cell_type": "markdown",
   "id": "0c2a1d1e",
   "metadata": {},
   "source": [
    "# Esercizi 1 - espressioni regolari"
   ]
  },
  {
   "cell_type": "code",
   "execution_count": 2,
   "id": "abd5eeec",
   "metadata": {},
   "outputs": [
    {
     "name": "stdout",
     "output_type": "stream",
     "text": [
      "['Ciao', 'come', 'Carmen']\n",
      "['Ciao', 'come', 'Carmen']\n"
     ]
    }
   ],
   "source": [
    "# 1 Trovare tutte le parole che iniziano con \"c\" in nella stringa Ciao come sta Carmen? Lei sta bene.\n",
    "import re\n",
    "stringa = \"Ciao come sta Carmen? Lei sta bene.\"\n",
    "pattern = r\"\\bc\\w+\"\n",
    "matches = re.findall(pattern, stringa, re.IGNORECASE)\n",
    "print(matches)\n",
    "# oppure al posto del ignorecase posso aggiungere\n",
    "pattern = r\"\\b[cC]\\w+\"\n",
    "matches = re.findall(pattern, stringa)\n",
    "print(matches)\n",
    "# \\bc parole che iniziano per c\n",
    "# w+ prende i caratteri dopo ogni lettera iniziale della parola\n"
   ]
  },
  {
   "cell_type": "code",
   "execution_count": 99,
   "id": "0bc298a8",
   "metadata": {},
   "outputs": [
    {
     "name": "stdout",
     "output_type": "stream",
     "text": [
      "['mario.rossi@email.it', 'topo.gigio@supertopo.com']\n"
     ]
    }
   ],
   "source": [
    "# 2 Trovare tutte le email presenti nella stringa Il mio indirizzo email è mario.rossi@email.it\n",
    "import re\n",
    "parole = \"Il mio indirizzo email è mario.rossi@email.it, la mia seconda mail è topo.gigio@supertopo.com\"\n",
    "# pattern = \"\\w+@\\w+.\\w+\"             # w+ prende solo lettere numeri e underscore\n",
    "# pattern = \"[\\w.-]+@[\\w.-]+\"         # aggiunto il . e - ma così prende troppo dopo il punto\n",
    "# pattern = \"[\\w.-]+@[\\w.-]+\\.[a-z]{2,4}\"    # per limitare l'indirizzo da 2 a 4 lettere: .com .it .info\n",
    "                                            # va bene, ma prende solo 4 caratteri e non scarta le mail con .commmmmm quindi indirizzo non valido\n",
    "# pattern = [\\w.-]+@[\\w.-]+\\.[a-z]{2,4}\\b   # aggiungo un boundary, .commmmmm non passerà perché dopo le 4 lettere il resto continua a essere una parola e quindi il \\b non scatta\n",
    "# pattern = \"[\\w.-]+@[\\w.-]+\\.[a-z]{2,4}(?=\\b|[^a-zA-Z])\"  # non funziona con l'ultima mail perché termina la stringa, quindi va aggiunto un lookahead\n",
    "# pattern = \"\\b[\\w.-]+@[\\w.-]+\\.[a-z]{2,4}(\\b|$)\"           # adesso non funziona per \\b\n",
    "pattern = r\"\\b[\\w.-]+@[\\w.-]+\\.[a-z]{2,4}(?:\\b|$)\"      # ho aggiunto r dato che in Python \\b viene interpretato come backspace e non come boundary\n",
    "matches = re.findall(pattern, parole, re.IGNORECASE)\n",
    "print(matches)\n",
    "# OTTIMIZZAZIONE\n",
    "# per prendere anche punti, trattini ed altri caratteri devo aggiungerli\n",
    "# w+ mangia troppi caratteri\n",
    "# aggiungo che nella parte finale ci sono almeno 2-4 lettere\n",
    "# \\b non funziona bene a fine della stringa\n",
    "#RECAP\n",
    "'''\n",
    "\\b boundary iniziale e finale\n",
    "| OR\n",
    "\\w+ carattere, parole, numeri underscore\n",
    "+ più di un carattere\n",
    "[a-z] lettere dalla a alla z\n",
    "{2, 4} tra le 2 e i 4 caratteri\n",
    "$ lookahead per fine compresa tra \n",
    "'''"
   ]
  },
  {
   "cell_type": "code",
   "execution_count": null,
   "id": "a7aa752e",
   "metadata": {},
   "outputs": [],
   "source": [
    "# ATTENZIONE PATTERN COMPLETO PER MAIL\n",
    "pattern = r\"(?:[a-zA-Z0-9!#$%&'*+/=?^_`{|}~-]+(?:\\.[a-zA-Z0-9!#$%&'*+/=?^_`{|}~-]+)*\" \\\n",
    "          r\"|\\\"(?:[\\x01-\\x08\\x0b\\x0c\\x0e-\\x1f\\x21\\x23-\\x5b\\x5d-\\x7f]\" \\\n",
    "          r\"|\\\\[\\x01-\\x09\\x0b\\x0c\\x0e-\\x7f])*\\\")@\" \\\n",
    "          r\"(?:(?:[a-zA-Z0-9](?:[a-zA-Z0-9-]*[a-zA-Z0-9])?\\.)+\" \\\n",
    "          r\"[a-zA-Z]{2,}|\" \\\n",
    "          r\"\\[(?:(?:25[0-5]|2[0-4][0-9]|[01]?[0-9][0-9]?)\\.){3}\" \\\n",
    "          r\"(?:25[0-5]|2[0-4][0-9]|[01]?[0-9][0-9]?|\" \\\n",
    "          r\"[a-zA-Z0-9-]*[a-zA-Z0-9]:(?:[\\x01-\\x08\\x0b\\x0c\\x0e-\\x1f\" \\\n",
    "          r\"\\x21-\\x5a\\x53-\\x7f]|\\\\[\\x01-\\x09\\x0b\\x0c\\x0e-\\x7f])+)])\"\n",
    "'''\n",
    "Questo è il pattern che copre tutte le mail. Cosa copre:\n",
    "nomi utente con . - _ + %, nomi utenti con virgolette e caratteri speciali, domini normali, domini con IP\n",
    "TLD di qualsiasi lunghezza (.museum, .international)\n",
    "limiti: è complesso da leggere e mantenere, è pensato solo per validazione, non per estrazione\n",
    "meglio usare librerie come validate_email\n",
    "'''\n",
    "# qualcosa di più completo è:\n",
    "pattern = r\"[a-zA-Z0-9_.+-]+@[a-zA-Z0-9-]+\\.[a-zA-Z0-9-.]+\"\n",
    "# che funziona con domini\n",
    "# mario.rossi@email.it\n",
    "# topo.gigio@supertopo.com\n",
    "# utente+test@dominio.co.uk"
   ]
  },
  {
   "cell_type": "code",
   "execution_count": null,
   "id": "8a30f37b",
   "metadata": {},
   "outputs": [
    {
     "name": "stdout",
     "output_type": "stream",
     "text": [
      "['mia', 'miei', 'smieeelati']\n"
     ]
    },
    {
     "data": {
      "text/plain": [
       "'\\n\\x08 boundary deve iniziare con bordo di parola, quindi uno spazio\\n\\\\w prende tutte le lettere, numeri, underscore\\n* il carattere può comparire 0 o più volte\\n[aeiou] appartenente alle vocali\\n{2} mette il limite a 2\\nsubito dopo aggiunge \\\\w* che permette qualsiasi carattere dopo il match \\ne \\x08 per chiudere la parola\\n'"
      ]
     },
     "execution_count": 1,
     "metadata": {},
     "output_type": "execute_result"
    }
   ],
   "source": [
    "# 3 Trovare tutte le parole che contengono due vocali consecutive nella stringa La mia mamma è andata al mare con i miei amici.\n",
    "import re\n",
    "stringa = \"La mia mamma è andata al mare con i miei amici smieeelati\"\n",
    "pattern = r\"\\b\\w*[aeiou]{2}\\w*\\b\"\n",
    "matches = re.findall(pattern, stringa)\n",
    "print(matches)\n",
    "'''\n",
    "\\b boundary deve iniziare con bordo di parola, quindi uno spazio\n",
    "\\w prende tutte le lettere, numeri, underscore\n",
    "* il carattere può comparire 0 o più volte\n",
    "[aeiou] appartenente alle vocali\n",
    "{2} mette il limite a 2\n",
    "subito dopo aggiunge \\w* che permette qualsiasi carattere dopo il match \n",
    "e \\b per chiudere la parola\n",
    "'''"
   ]
  },
  {
   "cell_type": "code",
   "execution_count": 11,
   "id": "5b98b1d7",
   "metadata": {},
   "outputs": [
    {
     "name": "stdout",
     "output_type": "stream",
     "text": [
      "['mia', 'miei', 'smieeelati']\n"
     ]
    }
   ],
   "source": [
    "# 3 Trovare tutte le parole che contengono due vocali consecutive nella stringa La mia mamma è andata al mare con i miei amici.\n",
    "import re\n",
    "stringa = \"La mia mamma è andata al mare con i miei amici smieeelati\"\n",
    "pattern = r\"\\w*[aeiou]{2}\\w*\"\n",
    "matches = re.findall(pattern, stringa)\n",
    "print(matches)\n",
    "# '''\n",
    "# \\w prende tutte le lettere, numeri, underscore\n",
    "# * il carattere può comparire 0 o più volte\n",
    "# [aeiou] appartenente alle vocali\n",
    "# {2} mette il limite a 2\n",
    "# subito dopo aggiunge \\w* che permette qualsiasi carattere dopo il match \n",
    "# '''"
   ]
  },
  {
   "cell_type": "code",
   "execution_count": 115,
   "id": "69ce6c79",
   "metadata": {},
   "outputs": [
    {
     "name": "stdout",
     "output_type": "stream",
     "text": [
      "['sono', 'ma', 'preferisco']\n"
     ]
    }
   ],
   "source": [
    "# 4 Trovare tutte le parole che terminano con a oppure o nella stringa Le mele sono buone ma preferisco le pere.\n",
    "stringa = \"Le mele sono buone ma preferisco le pere.\"\n",
    "pattern = r\"\\b\\w*[ao]\\b\"\n",
    "# il doppio \\b per dire che voglio le parole\n",
    "# \\w* per prendere qualsiasi carattere iniziale\n",
    "# [ao] per dire che dopo i caratteri iniziali devo avere una a o una o\n",
    "matches = re.findall(pattern, stringa)\n",
    "print(matches)"
   ]
  },
  {
   "cell_type": "code",
   "execution_count": null,
   "id": "fa8cf310",
   "metadata": {},
   "outputs": [
    {
     "name": "stdout",
     "output_type": "stream",
     "text": [
      "['Il', 'Sole']\n"
     ]
    }
   ],
   "source": [
    "# 5 Trovare le parole con iniziale maiuscola nella stringa Il Sole è una stella di rara bellezza.\n",
    "stringa = \"Il Sole è una stella di rara bellezza.\"\n",
    "pattern = r\"\\b[A-Z]\\w+\\b\"\n",
    "# il doppio \\b per dire che voglio le parole\n",
    "# la parola deve iniziare con [A-Z\n",
    "# w+ per prendere le successive parole\n",
    "matches = re.findall(pattern, stringa)\n",
    "print(matches)"
   ]
  },
  {
   "cell_type": "code",
   "execution_count": 17,
   "id": "3a97fe18",
   "metadata": {},
   "outputs": [
    {
     "name": "stdout",
     "output_type": "stream",
     "text": [
      "['La', 'mela', 'è', 'buona', 'ma', 'preferisco', 'le', 'pere']\n"
     ]
    }
   ],
   "source": [
    "# 6 Trovare tutte le parole che non iniziano con una vocale nella stringa La mela è buona ma preferisco le pere.\n",
    "import re\n",
    "stringa = \"La mela è buona ma preferisco assai le pere.\"\n",
    "# pattern = r\"\\b[^aeiou]\\w+\\b\"          # non va\n",
    "# pattern = r\"\\b[^aeiouAEIOU]\\w*\\b\"     # aggiungo maiscuole, * per zero o più volte\n",
    "pattern = r\"\\b[^aeiouAEIOU\\s\\W]\\w*\\b\"\n",
    "matches = re.findall(pattern, stringa)\n",
    "print(matches)\n",
    "# il doppio \\b per dire che voglio le parole\n",
    "# \\s spazio bianco, lo tolgo altrimenti lo prendo come inizio\n",
    "# \\W Non carattere di parola ([^a-zA-Z0-9_])"
   ]
  },
  {
   "cell_type": "code",
   "execution_count": null,
   "id": "5312a28e",
   "metadata": {},
   "outputs": [
    {
     "name": "stdout",
     "output_type": "stream",
     "text": [
      "Lx mxx cxsx è grxndx x xccxglxxntx cxn lx lxttxrx x.\n"
     ]
    }
   ],
   "source": [
    "# 7 Sostituire tutte le vocali presenti nella stringa La mia casa è grande e accogliente con la lettera x.\n",
    "stringa = \"La mia casa è grande e accogliente con la lettera x.\"\n",
    "pattern = r\"[aeiou]\"\n",
    "matches = re.sub(pattern, 'x', stringa)\n",
    "print(matches)\n",
    "# funzione sub(pattern, repl, string, count, flags)\n",
    "# Return the string obtained by replacing the leftmost\n",
    "# non-overlapping occurrences of the pattern in string by the\n",
    "# replacement repl. repl can be either a string or a callable;\n",
    "# if a string, backslash escapes in it are processed. If it is\n",
    "# a callable, it's passed the Match object and must return\n",
    "# a replacement string to be used."
   ]
  },
  {
   "cell_type": "code",
   "execution_count": 16,
   "id": "a353c331",
   "metadata": {},
   "outputs": [
    {
     "name": "stdout",
     "output_type": "stream",
     "text": [
      "['pares']\n"
     ]
    }
   ],
   "source": [
    "# 8 Trovare le parole che contengono are nella stringa Gli studenti stanno studiando per gli esami.\n",
    "import re\n",
    "stringa = \"Gli studenti stanno studiando per gli esami di pares.\"\n",
    "#pattern = r\"\\b\\w+[are]\\w+\\b\" # così esce gli studenti che contengono almeno 1 tra le lettere di 'are'\n",
    "#pattern = r\"\\b\\w+(are)\\w+\\b\" # così mi trova le ripetizioni di (are) ma non le parole\n",
    "pattern = r\"\\b\\w*are\\w*\\b\" # ccosì mi trova le parole che contengono 'are'\n",
    "matches = re.findall(pattern, stringa)\n",
    "print(matches)"
   ]
  },
  {
   "cell_type": "code",
   "execution_count": 47,
   "id": "9663f8a4",
   "metadata": {},
   "outputs": [
    {
     "name": "stdout",
     "output_type": "stream",
     "text": [
      "Controllo se inizia con una lettera maiuscola seguita da lettere minuscole\n",
      "La stringa 'Ciao mi chiamo marco' non va bene\n"
     ]
    }
   ],
   "source": [
    "# 9 Scrivere un listato che accetti una stringa di input e verifichi se inizia con una lettera maiuscola seguita da una o più lettere minuscole.\n",
    "import re\n",
    "stringa = input(\"Inserisci la parola\")\n",
    "print(\"Controllo se inizia con una lettera maiuscola seguita da lettere minuscole\")\n",
    "pattern = r\"^[A-Z]{1}+[a-z]\" # manca il caso in cui ho la prima masiuscola, le successive minuscole e poi possono presentarsi altre maiuscole\n",
    "pattern = r\"^[A-Z][a-z]+$\"\n",
    "# ^ ad inizio carattere, {1} una occorrenza di lettera maiuscola, + almeno una volta seguito da lettere minuscole\n",
    "# {1} potrebbe non servire\n",
    "# finale: ^ ad inizio stringa, [A-Z] una carattere maiuscolo, [a-z]+ seguito da almeno un carattere minuscolo, $ fine della stringa\n",
    "print(f\"La stringa '{stringa}' va bene\") if re.search(pattern, stringa) else print(f\"La stringa '{stringa}' non va bene\")\n",
    "# EXTRA\n",
    "# la stringa 'Ciao mi chiamo marco' non va bene, perché ci sono gli spazi\n",
    "# la traccia non è chiara, ma penso che per come è scritta non si debbano considerare gli spazi"
   ]
  },
  {
   "cell_type": "code",
   "execution_count": 55,
   "id": "1e55d78c",
   "metadata": {},
   "outputs": [
    {
     "name": "stdout",
     "output_type": "stream",
     "text": [
      "Controllo se contiene almeno una cifra\n",
      "La stringa 'Ciao 12' va bene\n"
     ]
    }
   ],
   "source": [
    "# 10 Scrivere un listato che verifichi se una stringa di input contiene almeno una cifra.\n",
    "stringa = input(\"Inserisci la stringa con i numeri\")\n",
    "print(\"Controllo se contiene almeno una cifra\")\n",
    "pattern = r\"\\d+\" # \\d valore numerico [0-9] con il + (almeno una volta)\n",
    "print(f\"La stringa '{stringa}' va bene\") if re.search(pattern, stringa) else print(f\"La stringa '{stringa}' non va bene\")"
   ]
  },
  {
   "cell_type": "code",
   "execution_count": 62,
   "id": "d9ca4c93",
   "metadata": {},
   "outputs": [
    {
     "name": "stdout",
     "output_type": "stream",
     "text": [
      "La stringa 'Anna' va bene\n",
      "La stringa 'anna' va bene\n",
      "La stringa 'an na' va bene\n",
      "La stringa 'Lucio' non va bene\n"
     ]
    }
   ],
   "source": [
    "#11 Scrivere un listato che verifichi se una stringa di input è una parola palindroma.\n",
    "\n",
    "# stringa = input(\"Inserisci la stringa palindroma\")\n",
    "def is_palindroma(text):    # puliamo la sringa e controlliamo con il suo inverso\n",
    "    pattern_pulizia = r\"\\W\"\n",
    "    # \\W controlla non carattere di parola [^a-zA-Z0-9]\n",
    "    text_pulita = re.sub(pattern_pulizia, '', text).lower()\n",
    "    return True if text_pulita[::-1] == text_pulita else False\n",
    "\n",
    "stringa1 = \"Anna\"\n",
    "stringa2 = \"anna\"\n",
    "stringa3 = \"an na\"\n",
    "stringa4 = \"Lucio\"\n",
    "\n",
    "# print(f\"La stringa '{stringa}' va bene\") if is_palindroma(stringa) else print(f\"La stringa '{stringa}' non va bene\")\n",
    "print(f\"La stringa '{stringa1}' va bene\") if is_palindroma(stringa1) else print(f\"La stringa '{stringa1}' non va bene\")\n",
    "print(f\"La stringa '{stringa2}' va bene\") if is_palindroma(stringa2) else print(f\"La stringa '{stringa2}' non va bene\")\n",
    "print(f\"La stringa '{stringa3}' va bene\") if is_palindroma(stringa3) else print(f\"La stringa '{stringa3}' non va bene\")\n",
    "print(f\"La stringa '{stringa4}' va bene\") if is_palindroma(stringa4) else print(f\"La stringa '{stringa4}' non va bene\")"
   ]
  },
  {
   "cell_type": "code",
   "execution_count": 86,
   "id": "7ab29d60",
   "metadata": {},
   "outputs": [
    {
     "name": "stdout",
     "output_type": "stream",
     "text": [
      "Controllo se è composta solo da caratteri alfanumerici minuscoli.\n",
      "La stringa 'Ciao' non va bene\n",
      "None\n"
     ]
    }
   ],
   "source": [
    "# 12 Anche uno che verifichi se una stringa di input è composta solo da caratteri alfabetici minuscoli.\n",
    "\n",
    "stringa = input(\"Inserisci la stringa\")\n",
    "#pattern = r\"[^A-Z][a-z]+\" # questo mi dice se contiene qualsiasi carattere non nella parentesi\n",
    "pattern = r\"^[a-z]+$\" # cerco almeno uno o più caratteri minuscoli da inizio a fine stringa\n",
    "print(\"Controllo se è composta solo da caratteri alfanumerici minuscoli.\")\n",
    "print(f\"La stringa '{stringa}' va bene\") if re.search(pattern, stringa) else print(f\"La stringa '{stringa}' non va bene\")\n",
    "\n",
    "# re.match - parte da inizio stringa\n",
    "# re.fullmatch - richiede il match sull'intera stringa\n",
    "# re.search - cerca una sottostringa che rispetta il pattern, non l'intera stringa\n",
    "#           quindi ha bisogno degli operatori di inizio e fine stringa (^ e $)\n",
    "pattern2 = r\"[a-z]+\"\n",
    "matches = re.match(pattern2, stringa)\n",
    "print(matches)\n"
   ]
  },
  {
   "cell_type": "code",
   "execution_count": 91,
   "id": "9ea2e0fc",
   "metadata": {},
   "outputs": [
    {
     "name": "stdout",
     "output_type": "stream",
     "text": [
      "Match: Ciao\n",
      "None\n"
     ]
    }
   ],
   "source": [
    "# 13 Verificare se una stringa corrisponde a un pattern utilizzando re.match().\n",
    "# possiamo fare l'esercizio di prima con il match\n",
    "# re.match(pattern, string) cerca di abbinare il pattern a partire dall'inizio della stringa\n",
    "# se trova una corrispondenza restituisce un oggetto Match, se non trova nulla None\n",
    "# ATTENZIONE: re.match non richiede che la stringa intera corrisponda al pattern - solo che l'inizio lo faccia\n",
    "# se si vuole coprire tutta la stringa bisogna usare ^ e $, oppure fullmatch\n",
    "\n",
    "stringa = \"Ciao\"\n",
    "stringa2 = \"ciao\"\n",
    "pattern = r\"[A-Z][a-z]+\" # stringa che inizia con una maiuscola seguita da minuscole\n",
    "m = re.match(pattern, stringa)\n",
    "print(\"Match:\", m.group()) if m else print(m)\n",
    "m = re.match(pattern, stringa2)\n",
    "print(\"Match:\", m.group()) if m else print(m)"
   ]
  },
  {
   "cell_type": "code",
   "execution_count": 93,
   "id": "a030c5cf",
   "metadata": {},
   "outputs": [
    {
     "name": "stdout",
     "output_type": "stream",
     "text": [
      "Stringasenzaspazi\n"
     ]
    }
   ],
   "source": [
    "# 14 Sostituire tutte le occorrenze di un pattern in una stringa utilizzando re.sub().\n",
    "# re.sub() serve a sostituire parti di una stringa che corrispondono a un pattern\n",
    "# re.sub(pattern, replacement, string, count=0, flags=0)\n",
    "#   pattern: espressione regolare da cercare\n",
    "#   replacement: stringa che sostituisce il match\n",
    "#   string: stringa su cui lavorare\n",
    "#   count (opzionale): quante sostituzioni fare\n",
    "#   flags (opzionale): es re.IGNORECASE\n",
    "# come esercizio 7\n",
    "stringa = \"Stringa senza spazi\"\n",
    "new_string = re.sub(r\" \", '', stringa)\n",
    "print(new_string)\n"
   ]
  },
  {
   "cell_type": "code",
   "execution_count": 96,
   "id": "69bf4011",
   "metadata": {},
   "outputs": [
    {
     "name": "stdout",
     "output_type": "stream",
     "text": [
      "Match: Gabri\n",
      "16\n",
      "21\n",
      "(16, 21)\n"
     ]
    }
   ],
   "source": [
    "# 15 Verificare se una stringa contiene un pattern utilizzando re.search().\n",
    "# re.search() cerca la prima occorrenza di un pattern ovunque nella stringa\n",
    "# posso mettere tra i parametri il pattern, la stringa ed i soliti flags\n",
    "# dato che restituisce un match, posso accedere a:\n",
    "#       match.group() il testo trovato\n",
    "#       match.start() la posizione di inizio\n",
    "#       match.end()   la posizione di fine\n",
    "#       match.span()  tuple(start, end)\n",
    "\n",
    "stringa = \"Ciao mi chiamao Gabriele\"\n",
    "m = re.search(r\"G.b.i\", stringa)\n",
    "print(\"Match:\", m.group()) if m else print(m)\n",
    "print(m.start())\n",
    "print(m.end())\n",
    "print(m.span())"
   ]
  },
  {
   "cell_type": "code",
   "execution_count": 98,
   "id": "4db987fb",
   "metadata": {},
   "outputs": [
    {
     "name": "stdout",
     "output_type": "stream",
     "text": [
      "['questa', 'è', 'una', 'stringa', 'con', 'tantissimi', 'spazi']\n",
      "Lista con maxsplit = 3 ['questa', 'è', 'una', 'stringa   con  tantissimi   spazi']\n"
     ]
    }
   ],
   "source": [
    "# 16 Dividere una stringa in una lista utilizzando re.split().\n",
    "# re.split() serve a spezzare (splittare) una stringa in una lista, usando un pattern\n",
    "# simile alla str.split() ma più potente dato che accetta espressioni regolari\n",
    "# solita sintassi con pattern, stringa e flags, ma in più ha\n",
    "#   maxsplit (opzionale) - numero massimo di divisioni se = 0 (TUTTE)\n",
    "# ritorna una lista\n",
    "stringa = \"questa è una   stringa   con  tantissimi   spazi\"\n",
    "pattern = r\"\\s+\" # almeno uno o più spazi\n",
    "lista = re.split(pattern, stringa )\n",
    "print(lista)\n",
    "lista = re.split(pattern, stringa, maxsplit = 3)\n",
    "print(f\"Lista con maxsplit = 3 {lista}\")\n"
   ]
  },
  {
   "cell_type": "code",
   "execution_count": 101,
   "id": "45c2a55e",
   "metadata": {},
   "outputs": [
    {
     "name": "stdout",
     "output_type": "stream",
     "text": [
      "Match: ciaomando\n"
     ]
    }
   ],
   "source": [
    "# 17 Verificare se una stringa corrisponde esattamente a un pattern utilizzando re.fullmatch().\n",
    "# re.fullmatch() verifica se l'intera stringa corrisponde a un pattern, dalla prima all'ultima lettera\n",
    "# stessa sintassi, pattern, string e flags\n",
    "# ritorna un oggetto match (con group, start, end, span)\n",
    "stringa = \"ciao mondo\"\n",
    "pattern = r\"[a-z]+\"\n",
    "m = re.fullmatch(pattern, re.sub(r\" \", '', stringa))\n",
    "print(\"Match:\", m.group()) if m else print(m)"
   ]
  },
  {
   "cell_type": "code",
   "execution_count": 109,
   "id": "6e169474",
   "metadata": {},
   "outputs": [
    {
     "name": "stdout",
     "output_type": "stream",
     "text": [
      "Valore: 131 Pos. iniziale 0 - finale 3\n",
      "Valore: 129831 Pos. iniziale 4 - finale 10\n",
      "Valore: 12378 Pos. iniziale 11 - finale 16\n",
      "Valore: 12 Pos. iniziale 19 - finale 21\n",
      "Valore: 13812 Pos. iniziale 22 - finale 27\n",
      "Valore: 9 Pos. iniziale 28 - finale 29\n",
      "Valore: 9 Pos. iniziale 30 - finale 31\n",
      "Valore: 18 Pos. iniziale 32 - finale 34\n",
      "Valore: 289 Pos. iniziale 35 - finale 38\n",
      "Valore: 189 Pos. iniziale 40 - finale 43\n",
      "Valore: 291 Pos. iniziale 44 - finale 47\n",
      "Valore: 39812 Pos. iniziale 48 - finale 53\n",
      "Valore: 912 Pos. iniziale 54 - finale 57\n"
     ]
    }
   ],
   "source": [
    "# 18 Trovare tutte le corrispondenze di un pattern utilizzando re.finditer().\n",
    "# re.finditer() cerca tutte le occorrenze di un pattern in una stringa\n",
    "# è come re.findall() ma invece di restituire una lista di stringhe\n",
    "# restituisce un iteratore di oggetti match\n",
    "# come abbiamo detto match ci fornisce oltre che al match, anche la posizione iniziale, finale\n",
    "# quindi finditer() è utile se vogliamo sapere dove si trova ogni match insieme ai dettagli\n",
    "# questo evita di caricare in memoria una lista grande (per testi molto lunghi)\n",
    "# SINTASSI: è la solita con pattern, string, flags\n",
    "\n",
    "stringa = \"131 129831 12378das12 13812u9d9h18h289dh189h291h39812h912h\"\n",
    "iteratore = re.finditer(r\"\\d+\", stringa) # trova i numeri\n",
    "for match in iteratore:\n",
    "    print(\"Valore:\", match.group(), \"Pos. iniziale\", match.start(), \"- finale\", match.end())\n"
   ]
  },
  {
   "cell_type": "code",
   "execution_count": 113,
   "id": "1039f863",
   "metadata": {},
   "outputs": [
    {
     "name": "stdout",
     "output_type": "stream",
     "text": [
      "Il Match non è presente: None\n"
     ]
    }
   ],
   "source": [
    "# 19 Scrivere un listato che esce se una stringa non corrisponde a un pattern, usando re.match().\n",
    "# abbiamo già visto match(), questo esercizio vuole che si stampi None\n",
    "\n",
    "# 13 Verificare se una stringa corrisponde a un pattern utilizzando re.match().\n",
    "# possiamo fare l'esercizio di prima con il match\n",
    "# re.match(pattern, string) cerca di abbinare il pattern a partire dall'inizio della stringa\n",
    "# se trova una corrispondenza restituisce un oggetto Match, se non trova nulla None\n",
    "# ATTENZIONE: re.match non richiede che la stringa intera corrisponda al pattern - solo che l'inizio lo faccia\n",
    "# se si vuole coprire tutta la stringa bisogna usare ^ e $, oppure fullmatch\n",
    "\n",
    "stringa = \"Il salento è la migliore regione del mondo\"\n",
    "pattern = r\"puglia\"\n",
    "m = re.match(pattern, stringa)\n",
    "print(\"Match:\", m.group()) if m else print(f\"Il Match non è presente: {m}\")\n"
   ]
  },
  {
   "cell_type": "code",
   "execution_count": 117,
   "id": "79b794b4",
   "metadata": {},
   "outputs": [
    {
     "name": "stdout",
     "output_type": "stream",
     "text": [
      "Match: SALENTO\n"
     ]
    }
   ],
   "source": [
    "# 20 Verificare se una stringa corrisponde a un pattern, ignorando la differenza tra maiuscole e minuscole con re.IGNORECASE.\n",
    "\n",
    "stringa = \"IL SALENTO E' LA MIGLIORE REGIONE DI ITALIA\"\n",
    "pattern = r\"salento\"\n",
    "m = re.search(pattern, stringa, flags=re.IGNORECASE)\n",
    "print(\"Match:\", m.group()) if m else print(f\"Il Match non è presente: {m}\")"
   ]
  },
  {
   "cell_type": "code",
   "execution_count": 119,
   "id": "39ce6878",
   "metadata": {},
   "outputs": [
    {
     "name": "stdout",
     "output_type": "stream",
     "text": [
      "Il testo originale è: \n",
      "Questo è un testo con una parola cattiva, ma possiamo cambiarla con una buona.\n",
      "Il nuovo testo è:\n",
      "Questo è un testo con una parola SUPER, ma possiamo cambiarla con una buona.\n"
     ]
    }
   ],
   "source": [
    "# 30 Correggere il listato in modo che l'utente possa inserire una parola cattiva e una parola buona. Il\n",
    "# programma deve creare un oggetto regex che cerchi la parola cattiva nel testo, ignorando maiuscole\n",
    "# e minuscole, e la sostituisca con la parola buona:\n",
    "# import re\n",
    "# text = \"Questo è un testo con una parola cattiva, ma possiamo cambiarla con una buona.\"\n",
    "# cattiva = print(\"Inserisci la parola che vuoi cambiare: \")\n",
    "# buona = print(\"Inserisci la parola che subentrerà: \")\n",
    "# patt = re.....(r'\\...\\b'.format(re.escape(cattiva)), re.IGNORECASE)\n",
    "# nuovo_testo = patt.....(buona, ....)\n",
    "# print(\"Il nuovo testo è:\\n{}\".format(nuovo_testo))\n",
    "\n",
    "import re\n",
    "text = \"Questo è un testo con una parola cattiva, ma possiamo cambiarla con una buona.\"\n",
    "cattiva = input(\"Inserisci la parola che vuoi cambiare: \")\n",
    "buona = input(\"Inserisci la parola che subentrerà: \")\n",
    "patt = r'\\b{}\\b'.format(re.escape(cattiva))\n",
    "nuovo_testo = re.sub(patt, buona, text, flags=re.IGNORECASE)\n",
    "print(f\"Il testo originale è: \\n{text}\")\n",
    "print(\"Il nuovo testo è:\\n{}\".format(nuovo_testo))"
   ]
  },
  {
   "cell_type": "code",
   "execution_count": 121,
   "id": "7968ffa9",
   "metadata": {},
   "outputs": [
    {
     "name": "stdout",
     "output_type": "stream",
     "text": [
      "Match!\n"
     ]
    }
   ],
   "source": [
    "# re.escape() prende una stringa e aggiunge automaticamente il backslash\n",
    "# davanti a tutti i caratteri speciali, in modo tale che vengano trattati come caratteri letterali\n",
    "# Quindi quello che fa è:\n",
    "#   protegge la nostra stringa da interpretazioni indesiderate\n",
    "#   ci evita errori, se la stringa contiene caratteri speciali\n",
    "#   serve inoltre per proteggersi dai caratteri inseriti dall'utente che molto spesso sono inprevedibili\n",
    "import re\n",
    "\n",
    "s = \"Ciao? Come va?\"\n",
    "pattern = re.escape(\"Ciao?\")\n",
    "m = re.search(pattern, s)\n",
    "print(\"Match!\" if m else \"No match\")\n"
   ]
  },
  {
   "cell_type": "code",
   "execution_count": null,
   "id": "f7a0c14f",
   "metadata": {},
   "outputs": [],
   "source": [
    "# re.purge() serve a svuotare la cache interna delle espressioni regolari compilate in Pythno\n",
    "# quando usiamo funzioni come re.compile(), re.match(), re.search() e re.findall() Python memorizza\n",
    "# internamente i pattern usati, per renderli più veloci se li riusiamo.\n",
    "# Questo è utile perché evita di compilare il pattern ma in programmi grandi la cache può crescere\n",
    "# occupando troppa memoria\n",
    "\n",
    "re.purge() # Clear the regular expression caches\n",
    "\n",
    "# può essere utile in applicazioni lunghissime (server), con migliaia di pattern diversi"
   ]
  },
  {
   "cell_type": "code",
   "execution_count": null,
   "id": "fe0346d2",
   "metadata": {},
   "outputs": [
    {
     "name": "stdout",
     "output_type": "stream",
     "text": [
      "['123', '456', '789']\n",
      "['123']\n"
     ]
    }
   ],
   "source": [
    "# re.MULTILINE per eseguire una ricerca multilinea utilizzando le espressioni regolari\n",
    "# quando lo usiamo\n",
    "# il simbolo ^ che di solito corrisponde all'inizio di una stringa\n",
    "    # corrisponderà all'inizio di ogni riga, non solo della stringa intera\n",
    "# il simbolo $ che di solito corrisponde alla fine di una stringa\n",
    "    # corrisponderà alla fine di ogni riga, non solo alla fine della stringa intera\n",
    "# possiamo usare multiline nei flags\n",
    "\n",
    "import re\n",
    "\n",
    "text = \"\"\"123 Questo è un testo\n",
    "456 con numeri all'inizio\n",
    "789 di ogni riga.\"\"\"\n",
    "\n",
    "# Pattern: numeri all'inizio di ogni riga\n",
    "pattern = r\"^\\d+\"\n",
    "\n",
    "# Usa MULTILINE per cercare all'inizio di ogni riga\n",
    "matches = re.findall(pattern, text, flags=re.MULTILINE)\n",
    "\n",
    "print(matches)\n",
    "# Output: ['123', '456', '789']\n",
    "\n",
    "# Senza MULTILINE\n",
    "matches = re.findall(pattern, text)\n",
    "print(matches)\n",
    "# Output: ['123'] (solo l'inizio della stringa)"
   ]
  },
  {
   "cell_type": "markdown",
   "id": "cecf2f4f",
   "metadata": {},
   "source": [
    "# Domande 1\n",
    "21) Qual è il metodo da utilizzare se si vuole cercare una corrispondenza all'inizio della stringa?\n",
    "- possiamo usare il re.match, ritorna un match\n",
    "22) Qual è il metodo da utilizzare se si vuole cercare una corrispondenza esatta con l'intera stringa?\n",
    "- possiamo usare il re.fullmatch, ritorna un match\n",
    "23) Quale metodo utilizzare per sostituire tutte le occorrenze della regex con un'altra stringa?\n",
    "- per le sostituzioni re.sub, ritorna una stringa\n",
    "24) Qual è l'opzione da utilizzare per impostare la ricerca dot-all?\n",
    "- dobbiamo aggiungere tra i flags dei metodi re.DOTALL, che cerca tutti tra tutti i caratteri inclusa la nuova riga\n",
    "25) Qual è l'opzione da utilizzare per impostare l'uso del flag UNICODE?\n",
    "- per i flags possiamo usare re.UNICODE o re.u . Si può inoltre usare la sequenza speciale (?u)\n",
    "26) Quale metodo utilizzare per trovare tutte le corrispondenze della regex in una stringa?\n",
    "- possiamo usare re.findall che ci ritorna una lista delle corrispondenze oppure re.finditer che ci ritorna le corrispondenze in formato iteratore per risparmiare memoria nelle stringhe troppo grandi\n",
    "27) Cosa fa il metodo re.escape()?\n",
    "- serve per trattare i caratteri speciali come caratteri normali, quindi protegge la nostra stringa da caratteri indesiderati inseriti dall'utente\n",
    "28) Cosa fa il metodo re.purge()?\n",
    "- serve per pulire la cache python da i pattern utilizzati. è utile nei programmi molto grandi (server) per risparmiare memoria.\n",
    "29) Qual è l'opzione da utilizzare per impostare la ricerca multilinea?\n",
    "- possiamo usare nei flags re.MULTILINE, che modifica il comportamento degli operatori di inizio e fine stringa ^ e $, trasformandoli in inizio e fine riga."
   ]
  },
  {
   "cell_type": "markdown",
   "id": "a818ab93",
   "metadata": {},
   "source": [
    "# Django"
   ]
  },
  {
   "cell_type": "markdown",
   "id": "d1e08951",
   "metadata": {},
   "source": [
    "creare un nuovo progetto: `django-admin startproject nome_del progetto`  \n",
    "creare una nuova app Django: `python manage.py startapp nome_dell_app`, in questo caso manage.py si trova in ecommerce e il nome dell'app è il nome della cartella (il nome del progetto e dell'app devono essere diversi)  \n",
    "creare un nuovo modello: inizializzare una nuova classe nel file `models.py` dell'app  \n",
    "creare una vista: creare una funzione dentro il file `views.py` dell'app  \n",
    "nuovo template django: basta creare un nuovo file HTML nella cartella dell'app  \n",
    "creare una nuova rotta URL: definirla nel file `urls.py`  \n",
    "configurare il database: modificare il file `settings.py` del progetto  \n",
    "lanciare il server: `python manage.py runserver`  \n",
    "per eseguire le migrazioni del database:\n",
    "```\n",
    "python manage.py makemigrations\n",
    "python manage.py migrate\n",
    "```\n",
    "creare un utente amministratore: `python manage.py createsuperuser`"
   ]
  },
  {
   "cell_type": "markdown",
   "id": "490e3f81",
   "metadata": {},
   "source": [
    "### Progetto\n",
    "- `manage.py`: una utility da linea di comando che ci permette di interagire con il progetto in svariate maniere\n",
    "- `nome_del_progetto/`: è il vero pacchetto python del progetto. Il suo nome è il nome del pacchetto python che dovrò usare per importare qualsiasi cosa dall'interno di esso\n",
    "- `__init__.py`: un file vuoto che indica a Python che questa directory dovrebbe essere considerata un pacchetto Python\n",
    "- `settings.py`: settaggi e configurazioni per questo proggetto Django\n",
    "- `urls.py`: la dichiarazione URL per il progetto Django: è una \"table of contents\" del nostro sito Django.\n",
    "- `asgi.py`: un punto di ingresso per i server web compatibili con ASGI per servire il tuo progetto\n",
    "- `wsgi.py`: un punto d'ingresso per web server compatibili co nWSGI per servire il tuo progetto"
   ]
  },
  {
   "cell_type": "markdown",
   "id": "6ec7bcd3",
   "metadata": {},
   "source": [
    "### Passi\n",
    "0) istallare Django\n",
    "1) creare il nuovo progetto: `django-admin startproject nome_progetto`\n",
    "2) eseguire le migrazioni: `python manage.py makemigrations` + `python manage.py migrate`\n",
    "3) avviare il server: `python manage.py runserver`\n",
    "4) creare un'app: `python manage.py startapp nome_app`\n",
    "5) aggiungi l'app dentro `settings.py` in `INSTALLED_APPS`\n",
    "```\n",
    "INSTALLED_APPS = [\n",
    "    ...\n",
    "    'nome_app',\n",
    "]\n",
    "```\n",
    "6) creare le viste e le URL:  \n",
    "in `views.py`\n",
    "```\n",
    "from django.shortcuts import render\n",
    "def home(request):\n",
    "    return render(request, 'home.html')\n",
    "```\n",
    "in `nome_app/urls.py`\n",
    "```\n",
    "from django.urls import path\n",
    "from . import views\n",
    "\n",
    "urlpatterns = [\n",
    "    path('', views.home, name='home'),\n",
    "]\n",
    "```\n",
    "Collegare le url in `nome_progetto/urls.py`\n",
    "```\n",
    "from django.contrib import admin\n",
    "from django.urls import path, include\n",
    "\n",
    "urlpatterns = [\n",
    "    path('admin/', admin.site.urls),\n",
    "    path('', include('nome_app.urls')), # così le include tutte\n",
    "]\n",
    "```\n",
    "7) in `models.py`, ogni volta che si crea un modello applicare le migrazioni:  \n",
    "```\n",
    "from django.db import models\n",
    "class Articolo(models.Model):\n",
    "    titolo = models.CharField(max_length=100)\n",
    "    contenuto = models.TextField()\n",
    "```\n",
    "8) personalizzare il pannello admin in `admin.py`, puoi creare un superuser con `python manage.py createsuperuser`. Accedere a `http://127.0.0.1:8000/admin/`\n",
    "```\n",
    "from django.contrib import admin\n",
    "from .models import Articolo\n",
    "\n",
    "admin.site.register(Articolo)\n",
    "```\n",
    "9) possiamo usare diversi template html per esempio in `views.py` per l'home. Creare una cartella `templates` in `nome_app` e aggiungere i file html li dentro.\n",
    "```\n",
    "from django.shortcuts import render\n",
    "\n",
    "def home(request):\n",
    "    return render(request, 'home.html')\n",
    "\n",
    "```\n",
    "10) quando si vuole mettere il sito online mettere il `DEBUG=False` in `settings.py` e configurare gli `ALLOWED_HOSTS`\n",
    "11) Django fa gli aggiornamenti automatici, quindi basta far partire il server una volta"
   ]
  },
  {
   "cell_type": "markdown",
   "id": "b13664ce",
   "metadata": {},
   "source": [
    "# Matplotlib"
   ]
  },
  {
   "cell_type": "code",
   "execution_count": 55,
   "id": "550a1cf1",
   "metadata": {},
   "outputs": [
    {
     "name": "stdout",
     "output_type": "stream",
     "text": [
      "   id  nome  età   paese  stipendio data_assunzione   bonus\n",
      "0   1  Anna   28  Italia    32000.0      2020-03-15  1500.5\n",
      "             id        età     stipendio        bonus\n",
      "count  10.00000  10.000000      9.000000     8.000000\n",
      "mean    5.50000  32.100000  44111.111111  2050.243750\n",
      "std     3.02765   7.248755   8252.945602   623.398019\n",
      "min     1.00000  22.000000  32000.000000  1000.000000\n",
      "25%     3.25000  27.250000  39000.000000  1725.275000\n",
      "50%     5.50000  30.500000  43000.000000  2100.000000\n",
      "75%     7.75000  37.250000  47000.000000  2425.562500\n",
      "max    10.00000  45.000000  60000.000000  3000.000000\n"
     ]
    }
   ],
   "source": [
    "# 1 import\n",
    "import pandas as pd\n",
    "import matplotlib.pyplot as plt\n",
    "\n",
    "# 2 caricare il dataset\n",
    "path = \"dati.csv\"\n",
    "dataset = pd.read_csv(path)\n",
    "\n",
    "# 3 prima ispezione del dataset\n",
    "print(dataset.head(1)) # visualizza le prime righe, posso inserire un indice per dire quale riga voglio\n",
    "print(dataset.describe()) #ci da un'idea delle statistiche principali dei dati: count, mean, std, min, 25%, 50%, 75%, max"
   ]
  },
  {
   "cell_type": "code",
   "execution_count": 10,
   "id": "39799729",
   "metadata": {},
   "outputs": [],
   "source": [
    "url = \"https://raw.githubusercontent.com/CSSEGISandData/COVID-19/master/csse_covid_19_data/csse_covid_19_time_series/time_series_covid19_confirmed_global.csv\"\n",
    "data_covid = pd.read_csv(url) # dati del covid"
   ]
  },
  {
   "cell_type": "code",
   "execution_count": 11,
   "id": "65d09fd2",
   "metadata": {},
   "outputs": [
    {
     "data": {
      "text/plain": [
       "Index(['Province/State', 'Country/Region', 'Lat', 'Long', '1/22/20', '1/23/20',\n",
       "       '1/24/20', '1/25/20', '1/26/20', '1/27/20',\n",
       "       ...\n",
       "       '2/28/23', '3/1/23', '3/2/23', '3/3/23', '3/4/23', '3/5/23', '3/6/23',\n",
       "       '3/7/23', '3/8/23', '3/9/23'],\n",
       "      dtype='object', length=1147)"
      ]
     },
     "execution_count": 11,
     "metadata": {},
     "output_type": "execute_result"
    }
   ],
   "source": [
    "data_covid.columns"
   ]
  },
  {
   "cell_type": "code",
   "execution_count": 43,
   "id": "f71bdc94",
   "metadata": {},
   "outputs": [
    {
     "data": {
      "image/png": "[encoded data removed]",
      "text/plain": [
       "<Figure size 640x480 with 1 Axes>"
      ]
     },
     "metadata": {},
     "output_type": "display_data"
    }
   ],
   "source": [
    "# 4 selezionare le colonne da analizzare\n",
    "latitude = data_covid['Lat'].dropna()\n",
    "longitude = data_covid['Long'].dropna()\n",
    "# 5 visualizzare un grafico a dispersione\n",
    "plt.scatter(latitude, longitude)\n",
    "plt.xlabel('Latitude')\n",
    "plt.ylabel('Longitude')\n",
    "plt.title('Coordinates')\n",
    "plt.show()\n",
    "# ci da le relazioni tra le due variabili continue\n",
    "# scatter crea un grafo a dispersione, impostando le etichette x e y, ed infine title\n",
    "# show per mostrare il grafo"
   ]
  },
  {
   "cell_type": "code",
   "execution_count": 44,
   "id": "8666058d",
   "metadata": {},
   "outputs": [
    {
     "name": "stdout",
     "output_type": "stream",
     "text": [
      "Il coefficiente di correlazione è: -0.049886251752468025\n"
     ]
    }
   ],
   "source": [
    "# 6 Coefficiente di correlazione tra le due colonne\n",
    "coeff_corr = latitude.corr(longitude)\n",
    "print(\"Il coefficiente di correlazione è:\", coeff_corr)\n",
    "# forza delle relazioni tra le due variabili\n"
   ]
  },
  {
   "cell_type": "code",
   "execution_count": 45,
   "id": "53ac64a3",
   "metadata": {},
   "outputs": [
    {
     "data": {
      "image/png": "[encoded data removed]",
      "text/plain": [
       "<Figure size 640x480 with 1 Axes>"
      ]
     },
     "metadata": {},
     "output_type": "display_data"
    }
   ],
   "source": [
    "# 7 creare un istogramma per analizzare la distrubuzione dei valori della colonna1\n",
    "plt.hist(latitude, bins=10) # hist per gli istogrammi\n",
    "plt.xlabel('Latitude')\n",
    "plt.ylabel('Count')\n",
    "plt.title('Latitute Histogram')\n",
    "plt.show()\n",
    "# distribuzione di una variabile continua"
   ]
  },
  {
   "cell_type": "code",
   "execution_count": 62,
   "id": "8b0ca55f",
   "metadata": {},
   "outputs": [
    {
     "data": {
      "image/png": "[encoded data removed]",
      "text/plain": [
       "<Figure size 640x480 with 1 Axes>"
      ]
     },
     "metadata": {},
     "output_type": "display_data"
    }
   ],
   "source": [
    "# 8 boxplot per visualizzare la distribuzione dei valori nella colonna 2\n",
    "# droppare i NaN per i boxplot\n",
    "# plt.boxplot(longitude)\n",
    "# plt.ylabel('Longitude')\n",
    "# plt.title('Boxplot')\n",
    "# plt.show()\n",
    "\n",
    "# plt.boxplot([longitude, latitude], labels=['Longitude', 'Latitude'])\n",
    "plt.boxplot([longitude, latitude], tick_labels=['Longitude', 'Latitude'], flierprops=dict(marker='o', markerfacecolor='red', markersize=6, linestyle='none'))\n",
    "plt.ylabel('Values')\n",
    "plt.title('Latitude vs Longitude')\n",
    "plt.show()"
   ]
  },
  {
   "cell_type": "code",
   "execution_count": null,
   "id": "6987eb98",
   "metadata": {},
   "outputs": [],
   "source": [
    "'''\n",
    "BOXPLOT:\n",
    "è una rappresentazione grafica utilizzaa per descrivere la distribuzione di un campione tramite semplici indici di dispersione.\n",
    "nel box abbiamo:\n",
    "- Il minimo\n",
    "- il massimo\n",
    "- le anomalie indicate con un cerchietto vuoto, di solito fuori dal minimo o massimo\n",
    "- il primo quartile dal lato del minimo\n",
    "- il terzo quartile dal lato del massimo\n",
    "- il secondo quartile in mezzo che indica la mediana dei dati\n",
    "mediana: il valore di modalità assunto dalle unità statistiche che si trovano nel mezzo della distribuzione\n",
    "    la mediana è un indice di posizione\n",
    "media: un singolo valore numerico che descrive sinteticamente un insieme di dati. Esistono 3 tipi di medie,\n",
    "    ma nel linguaggio comune si intende quella aritmetica\n",
    "moda: di una distribuzione X è la modalità caratterizzata dalla massima frequenza (il valore che compare più frequentemente)\n",
    "std (deviazione standard): è un indice di dispersione statistica, un indicatore usato per fornire una stima\n",
    "    sintetica della variabilità di una popolazione di dati o di una variabile casuale\n",
    "'''"
   ]
  },
  {
   "cell_type": "code",
   "execution_count": null,
   "id": "0bdd60af",
   "metadata": {},
   "outputs": [
    {
     "name": "stdout",
     "output_type": "stream",
     "text": [
      "Index(['id', 'nome', 'età', 'paese', 'stipendio', 'data_assunzione', 'bonus'], dtype='object')\n"
     ]
    },
    {
     "data": {
      "image/png": "[encoded data removed]",
      "text/plain": [
       "<Figure size 640x480 with 1 Axes>"
      ]
     },
     "metadata": {},
     "output_type": "display_data"
    }
   ],
   "source": [
    "# 9 grafico a linee per vedere l'andamento dei valori della colonna 1\n",
    "print(dataset.columns)\n",
    "età = dataset['età']\n",
    "stipendio = dataset['stipendio']\n",
    "bonus = dataset['bonus']\n",
    "plt.plot(età, stipendio)\n",
    "plt.xlabel('Età')\n",
    "plt.ylabel('Stipendio')\n",
    "plt.title('Stipendio per diverse fasce di età')\n",
    "plt.show()"
   ]
  },
  {
   "cell_type": "code",
   "execution_count": 61,
   "id": "70abc35b",
   "metadata": {},
   "outputs": [
    {
     "data": {
      "image/png": "[encoded data removed]",
      "text/plain": [
       "<Figure size 640x480 with 1 Axes>"
      ]
     },
     "metadata": {},
     "output_type": "display_data"
    }
   ],
   "source": [
    "# 10 grafico a barre per analizzare la distribuzione dei valori di una terza colonna\n",
    "plt.bar(latitude.unique(), latitude.value_counts())\n",
    "plt.xlabel('Stipendio')\n",
    "plt.ylabel('Conteggio')\n",
    "plt.title('Grafico a barre')\n",
    "plt.show()"
   ]
  }
 ],
 "metadata": {
  "kernelspec": {
   "display_name": ".venv",
   "language": "python",
   "name": "python3"
  },
  "language_info": {
   "codemirror_mode": {
    "name": "ipython",
    "version": 3
   },
   "file_extension": ".py",
   "mimetype": "text/x-python",
   "name": "python",
   "nbconvert_exporter": "python",
   "pygments_lexer": "ipython3",
   "version": "3.13.3"
  }
 },
 "nbformat": 4,
 "nbformat_minor": 5
}
