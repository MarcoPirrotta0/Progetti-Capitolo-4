{
 "cells": [
  {
   "cell_type": "markdown",
   "id": "ac10ea7e",
   "metadata": {},
   "source": [
    "1. **Trovare tutte le parole che iniziano con \"c\"** nella stringa\n",
    "   `Ciao come sta Carmen? Lei sta bene.`\n"
   ]
  },
  {
   "cell_type": "code",
   "execution_count": 17,
   "id": "ed3e3e44",
   "metadata": {},
   "outputs": [
    {
     "name": "stdout",
     "output_type": "stream",
     "text": [
      "['Ciao', 'come', 'Carmen']\n"
     ]
    }
   ],
   "source": [
    "import re\n",
    "\n",
    "string = \"Ciao come sta Carmen? Lei sta bene.\"\n",
    "# trova parole che iniziano con \"C\" o \"c\"\n",
    "pattern = r\"\\b[cC]\\w+\" \n",
    "#\\w+ indica una o più lettere, numeri o underscore\n",
    "# \\b indica il confine di parola\n",
    "# \\w indica una lettera, un numero o un underscore\n",
    "matches = re.findall(pattern, string)\n",
    "print(matches)  "
   ]
  },
  {
   "cell_type": "markdown",
   "id": "feca3cc5",
   "metadata": {},
   "source": [
    "\n",
    "2. **Trovare tutte le email** presenti nella stringa\n",
    "   `Il mio indirizzo email è mario.rossi@email.it`\n"
   ]
  },
  {
   "cell_type": "code",
   "execution_count": null,
   "id": "7fba4fa8",
   "metadata": {},
   "outputs": [
    {
     "name": "stdout",
     "output_type": "stream",
     "text": [
      "['marco.pirrotta@gmail.com']\n"
     ]
    }
   ],
   "source": [
    "# 2. **Trovare tutte le email** presenti nella stringa `Il mio indirizzo email è mario.rossi@email.it`\n",
    "\n",
    "string = \"Il mio indirizzo email è marco.pirrotta@gmail.com\"\n",
    "# trova email\n",
    "pattern = r\"[a-zA-Z0-9._%+-]+@[a-zA-Z0-9.-]+\\.[a-zA-Z]{2,}\"\n",
    "matches = re.findall(pattern, string)\n",
    "print(matches)"
   ]
  },
  {
   "cell_type": "markdown",
   "id": "842a0a11",
   "metadata": {},
   "source": [
    "\n",
    "3. **Trovare tutte le parole che contengono due vocali consecutive** nella stringa\n",
    "   `La mia mamma è andata al mare con i miei amici.`\n"
   ]
  },
  {
   "cell_type": "code",
   "execution_count": 19,
   "id": "ff13cfd2",
   "metadata": {},
   "outputs": [
    {
     "name": "stdout",
     "output_type": "stream",
     "text": [
      "['mia', 'miei']\n"
     ]
    }
   ],
   "source": [
    "#3. **Trovare tutte le parole che contengono due vocali consecutive** nella stringa\n",
    "   #`La mia mamma è andata al mare con i miei amici.`\n",
    "\n",
    "string = \"La mia mamma è andata al mare con i miei amici.\"\n",
    "# trova parole con due vocali consecutive\n",
    "pattern = r\"\\b\\w*[aeiou]{2}\\w*\\b\"\n",
    "matches = re.findall(pattern, string)\n",
    "print(matches)"
   ]
  },
  {
   "cell_type": "markdown",
   "id": "d7db39f4",
   "metadata": {},
   "source": [
    "\n",
    "4. **Trovare tutte le parole che terminano con “a” oppure “o”** nella stringa\n",
    "   `Le mele sono buone ma preferisco le pere.`\n"
   ]
  },
  {
   "cell_type": "code",
   "execution_count": 20,
   "id": "c364ad14",
   "metadata": {},
   "outputs": [
    {
     "name": "stdout",
     "output_type": "stream",
     "text": [
      "['sono', 'ma', 'preferisco']\n"
     ]
    }
   ],
   "source": [
    "# 4. **Trovare tutte le parole che terminano con “a” oppure “o”** nella stringa\n",
    "#    `Le mele sono buone ma preferisco le pere.`\n",
    "\n",
    "string = \"Le mele sono buone ma preferisco le pere.\"\n",
    "# trova parole che terminano con \"a\" o \"o\"\n",
    "pattern = r\"\\b\\w*[ao]\\b\"\n",
    "matches = re.findall(pattern, string)\n",
    "print(matches)"
   ]
  },
  {
   "cell_type": "markdown",
   "id": "1452c722",
   "metadata": {},
   "source": [
    "\n",
    "\n",
    "5. **Trovare le parole con iniziale maiuscola** nella stringa\n",
    "   `Il Sole è una stella di rara bellezza.`\n"
   ]
  },
  {
   "cell_type": "code",
   "execution_count": 21,
   "id": "8127f71c",
   "metadata": {},
   "outputs": [
    {
     "name": "stdout",
     "output_type": "stream",
     "text": [
      "['una', 'stella', 'rara', 'bellezza']\n"
     ]
    }
   ],
   "source": [
    "# 5. **Trovare le parole con iniziale maiuscola** nella stringa\n",
    "#    `Il Sole è una stella di rara bellezza.`\n",
    "\n",
    "import re\n",
    "\n",
    "string = \"Il Sole è una stella di rara bellezza.\"\n",
    "# trova parole con iniziale maiuscola\n",
    "matches = re.findall(pattern, string)\n",
    "print(matches)\n"
   ]
  },
  {
   "cell_type": "markdown",
   "id": "912d26c8",
   "metadata": {},
   "source": [
    "\n",
    "6. **Trovare tutte le parole che non iniziano con una vocale** nella stringa\n",
    "   `La mela è buona ma preferisco le pere.`\n"
   ]
  },
  {
   "cell_type": "code",
   "execution_count": 22,
   "id": "e587aca7",
   "metadata": {},
   "outputs": [
    {
     "name": "stdout",
     "output_type": "stream",
     "text": [
      "['La', ' mela', ' è', ' buona', ' ma', ' preferisco', ' le', ' pere']\n"
     ]
    }
   ],
   "source": [
    "# trovare parole che  non iniziano con una vocale\n",
    "\n",
    "string = \"La mela è buona ma preferisco le pere\"\n",
    "# trova parole che non iniziano con una vocale\n",
    "pattern = r\"\\b[^aeiouAEIOU]\\w*\\b\"\n",
    "matches = re.findall(pattern, string)\n",
    "print(matches)"
   ]
  },
  {
   "cell_type": "markdown",
   "id": "359fe512",
   "metadata": {},
   "source": [
    "\n",
    "7. **Sostituire tutte le vocali** presenti nella stringa\n",
    "   `La mia casa è grande e accogliente` con la lettera **x**\n"
   ]
  },
  {
   "cell_type": "code",
   "execution_count": 23,
   "id": "e5df0db6",
   "metadata": {},
   "outputs": [
    {
     "name": "stdout",
     "output_type": "stream",
     "text": [
      "Lx mxx cxsx è grxndx x xccxglxxntx\n"
     ]
    }
   ],
   "source": [
    "# 7. **Sostituire tutte le vocali** presenti nella stringa\n",
    "#    `La mia casa è grande e accogliente` con la lettera **x**\n",
    "\n",
    "string = \"La mia casa è grande e accogliente\"\n",
    "# sostituisci tutte le vocali con \"x\"\n",
    "pattern = r\"[aeiouAEIOU]\"\n",
    "replacement = \"x\"\n",
    "new_string = re.sub(pattern, replacement, string)\n",
    "print(new_string)"
   ]
  },
  {
   "cell_type": "markdown",
   "id": "a8fcfd0c",
   "metadata": {},
   "source": [
    "\n",
    "8. **Trovare le parole che contengono “are”** nella stringa\n",
    "   `Gli studenti stanno studiando per gli esami.`\n"
   ]
  },
  {
   "cell_type": "code",
   "execution_count": 24,
   "id": "c2250546",
   "metadata": {},
   "outputs": [
    {
     "name": "stdout",
     "output_type": "stream",
     "text": [
      "['carezzano']\n"
     ]
    }
   ],
   "source": [
    "# 8. **Trovare le parole che contengono “are”** nella stringa\n",
    "#    `Gli alberi carezzano i campi con le loro fronde mosse dal vento.`\n",
    "\n",
    "string = \"Gli alberi carezzano i campi con le loro fronde mosse dal vento.\"\n",
    "pattern = r\"\\b\\w*are\\w*\\b\"\n",
    "matches = re.findall(pattern, string)\n",
    "print(matches)"
   ]
  },
  {
   "cell_type": "markdown",
   "id": "9c6334d0",
   "metadata": {},
   "source": [
    "\n",
    "9. **Scrivere un listato** che accetti una stringa di input e **verifichi se inizia con una lettera maiuscola** seguita da una o più lettere minuscole\n"
   ]
  },
  {
   "cell_type": "code",
   "execution_count": 25,
   "id": "6d7b8284",
   "metadata": {},
   "outputs": [
    {
     "name": "stdout",
     "output_type": "stream",
     "text": [
      "La stringa inizia con una lettera maiuscola seguita da lettere minuscole.\n"
     ]
    }
   ],
   "source": [
    "# 9. **Scrivere un listato** che accetti una stringa di input e **verifichi se inizia con una lettera maiuscola** seguita da una o più lettere minuscole\n",
    "\n",
    "string = input(\"Inserisci una stringa: \")\n",
    "pattern = r\"^[A-Z][a-z]+\"\n",
    "if re.match(pattern, string):\n",
    "    print(\"La stringa inizia con una lettera maiuscola seguita da lettere minuscole.\")\n",
    "else:\n",
    "    print(\"La stringa non inizia con una lettera maiuscola seguita da lettere minuscole.\")\n",
    "\n"
   ]
  },
  {
   "cell_type": "markdown",
   "id": "a13f47fc",
   "metadata": {},
   "source": [
    "\n",
    "10. **Scrivere un listato** che verifichi se una stringa di input **contiene almeno una cifra**\n"
   ]
  },
  {
   "cell_type": "code",
   "execution_count": 26,
   "id": "10f3069c",
   "metadata": {},
   "outputs": [
    {
     "name": "stdout",
     "output_type": "stream",
     "text": [
      "La stringa non contiene cifre.\n"
     ]
    }
   ],
   "source": [
    "# 10. **Scrivere un listato** che verifichi se una stringa di input **contiene almeno una cifra**\n",
    "\n",
    "string = input(\"Inserisci una stringa: \")\n",
    "pattern = r\"\\d\"  # cerca almeno una cifra\n",
    "if re.search(pattern, string):\n",
    "    print(\"La stringa contiene almeno una cifra.\")\n",
    "else:\n",
    "    print(\"La stringa non contiene cifre.\")\n"
   ]
  },
  {
   "cell_type": "markdown",
   "id": "f22bdaaa",
   "metadata": {},
   "source": [
    "\n",
    "11. **Scrivere un listato** che verifichi se una stringa di input è una **parola palindroma**\n"
   ]
  },
  {
   "cell_type": "code",
   "execution_count": 32,
   "id": "1c10bf58",
   "metadata": {},
   "outputs": [
    {
     "name": "stdout",
     "output_type": "stream",
     "text": [
      "La parola è palindroma.\n"
     ]
    }
   ],
   "source": [
    "# 11. **Scrivere un listato** che verifichi se una stringa di input è una **parola palindroma**\n",
    "\n",
    "if string.lower() == string[::-1].lower():\n",
    "    print(\"La parola è palindroma.\")\n",
    "else:\n",
    "    print(\"La parola non è palindroma.\")\n"
   ]
  },
  {
   "cell_type": "markdown",
   "id": "47686116",
   "metadata": {},
   "source": [
    "\n",
    "12. **Scrivere un listato** che verifichi se una stringa di input è composta solo da **caratteri alfabetici minuscoli**\n"
   ]
  },
  {
   "cell_type": "code",
   "execution_count": 33,
   "id": "64cbf96a",
   "metadata": {},
   "outputs": [
    {
     "name": "stdout",
     "output_type": "stream",
     "text": [
      "La stringa è composta solo da caratteri alfabetici minuscoli.\n"
     ]
    }
   ],
   "source": [
    "# 12. **Scrivere un listato** che verifichi se una stringa di input è composta solo da **caratteri alfabetici minuscoli**\n",
    "\n",
    "string = input(\"Inserisci una stringa: \")\n",
    "pattern = r\"^[a-z]+$\"  # solo lettere minuscole\n",
    "if re.match(pattern, string):\n",
    "    print(\"La stringa è composta solo da caratteri alfabetici minuscoli.\")\n",
    "else:\n",
    "    print(\"La stringa contiene caratteri non alfabetici o maiuscoli.\")\n"
   ]
  },
  {
   "cell_type": "markdown",
   "id": "a9325be2",
   "metadata": {},
   "source": [
    "\n",
    "13. **Verificare se una stringa corrisponde a un pattern** utilizzando `re.match()`\n"
   ]
  },
  {
   "cell_type": "code",
   "execution_count": 35,
   "id": "a8e5b401",
   "metadata": {},
   "outputs": [
    {
     "name": "stdout",
     "output_type": "stream",
     "text": [
      "La stringa non corrisponde al pattern.\n"
     ]
    }
   ],
   "source": [
    "# 13. **Verificare se una stringa corrisponde a un pattern** utilizzando `re.match()`\n",
    "\n",
    "string = input(\"Inserisci una stringa: \")\n",
    "pattern = r\"^Ciao\"  # inizia con \"Ciao\"\n",
    "if re.match(pattern, string):\n",
    "    print(\"La stringa corrisponde al pattern.\")\n",
    "else:\n",
    "    print(\"La stringa non corrisponde al pattern.\")\n"
   ]
  },
  {
   "cell_type": "markdown",
   "id": "7f2e2115",
   "metadata": {},
   "source": [
    "\n",
    "14. **Sostituire tutte le occorrenze di un pattern** in una stringa utilizzando `re.sub()`\n"
   ]
  },
  {
   "cell_type": "code",
   "execution_count": 36,
   "id": "bb0ba203",
   "metadata": {},
   "outputs": [
    {
     "name": "stdout",
     "output_type": "stream",
     "text": [
      "Stringa originale: Ciao Marco\n",
      "Stringa modificata: Buongiorno Marco\n"
     ]
    }
   ],
   "source": [
    "# 14. **Sostituire tutte le occorrenze di un pattern** in una stringa utilizzando `re.sub()`\n",
    "\n",
    "string = input(\"Inserisci una stringa: \")\n",
    "pattern = r\"Ciao\"  # pattern da sostituire\n",
    "replacement = \"Buongiorno\"  # sostituzione\n",
    "new_string = re.sub(pattern, replacement, string)\n",
    "print(\"Stringa originale:\", string)\n",
    "print(\"Stringa modificata:\", new_string)  # mostra la stringa modificata\n"
   ]
  },
  {
   "cell_type": "markdown",
   "id": "3162b379",
   "metadata": {},
   "source": [
    "\n",
    "15. **Verificare se una stringa contiene un pattern** utilizzando `re.search()`\n"
   ]
  },
  {
   "cell_type": "code",
   "execution_count": 37,
   "id": "c1597e27",
   "metadata": {},
   "outputs": [
    {
     "name": "stdout",
     "output_type": "stream",
     "text": [
      "La stringa contiene il pattern.\n"
     ]
    }
   ],
   "source": [
    "#15. **Verificare se una stringa contiene un pattern** utilizzando `re.search()`\n",
    "\n",
    "string = input(\"Inserisci una stringa: \")\n",
    "pattern = r\"ciao\"  # pattern da cercare\n",
    "if re.search(pattern, string, re.IGNORECASE):  # cerca \"ciao\" ignorando il case\n",
    "    print(\"La stringa contiene il pattern.\")\n",
    "else:\n",
    "    print(\"La stringa non contiene il pattern.\")\n",
    "    \n"
   ]
  },
  {
   "cell_type": "markdown",
   "id": "27d83700",
   "metadata": {},
   "source": [
    "\n",
    "16. **Dividere una stringa in una lista** utilizzando `re.split()`\n"
   ]
  },
  {
   "cell_type": "code",
   "execution_count": 38,
   "id": "5229e698",
   "metadata": {},
   "outputs": [
    {
     "name": "stdout",
     "output_type": "stream",
     "text": [
      "Lista di parole: ['Ciao', 'Marco', 'Pirrotta', 'Come', 'Stai']\n"
     ]
    }
   ],
   "source": [
    "# 16. **Dividere una stringa in una lista** utilizzando `re.split()`\n",
    "\n",
    "string = input(\"Inserisci una stringa: \")\n",
    "pattern = r\"\\s+\"  # pattern per gli spazi bianchi\n",
    "# divide la stringa in base agli spazi bianchi\n",
    "string_list = re.split(pattern, string)\n",
    "print(\"Lista di parole:\", string_list)  # mostra la lista di parole\n"
   ]
  },
  {
   "cell_type": "markdown",
   "id": "cbe972b9",
   "metadata": {},
   "source": [
    "\n",
    "17. **Verificare se una stringa corrisponde esattamente a un pattern** utilizzando `re.fullmatch()`\n"
   ]
  },
  {
   "cell_type": "code",
   "execution_count": 40,
   "id": "c20e3147",
   "metadata": {},
   "outputs": [
    {
     "name": "stdout",
     "output_type": "stream",
     "text": [
      "La stringa corrisponde esattamente al pattern.\n"
     ]
    }
   ],
   "source": [
    "# 17. **Verificare se una stringa corrisponde esattamente a un pattern** utilizzando `re.fullmatch()`\n",
    "\n",
    "string = input(\"Inserisci una stringa: \")\n",
    "\n",
    "pattern = r\"Array\"  # pattern esatto\n",
    "if re.fullmatch(pattern, string):\n",
    "    print(\"La stringa corrisponde esattamente al pattern.\")\n",
    "else:\n",
    "    print(\"La stringa non corrisponde esattamente al pattern.\")"
   ]
  },
  {
   "cell_type": "markdown",
   "id": "80981468",
   "metadata": {},
   "source": [
    "\n",
    "18. **Trovare tutte le corrispondenze di un pattern** utilizzando `re.finditer()`\n"
   ]
  },
  {
   "cell_type": "code",
   "execution_count": 43,
   "id": "5d96a074",
   "metadata": {},
   "outputs": [
    {
     "name": "stdout",
     "output_type": "stream",
     "text": [
      "Match trovato: Ar a posizione 0-2\n",
      "Match trovato: ar a posizione 16-18\n",
      "Match trovato: ar a posizione 34-36\n"
     ]
    }
   ],
   "source": [
    "# 18. **Trovare tutte le corrispondenze di un pattern** utilizzando `re.finditer()`\n",
    "\n",
    "string = input(\"Inserisci una stringa: \")\n",
    "pattern = r\"ar\"  # pattern da cercare\n",
    "matches_iter = re.finditer(pattern, string, re.IGNORECASE)  # trova tutte le corrispondenze ignorando il case\n",
    "\n",
    "for match in matches_iter:\n",
    "    print(f\"Match trovato: {match.group()} a posizione {match.start()}-{match.end()}\")"
   ]
  },
  {
   "cell_type": "markdown",
   "id": "e73d47ca",
   "metadata": {},
   "source": [
    "\n",
    "19. **Scrivere un listato** che esca se una stringa non corrisponde a un pattern, usando `re.match()`\n"
   ]
  },
  {
   "cell_type": "code",
   "execution_count": null,
   "id": "5f93dd65",
   "metadata": {},
   "outputs": [
    {
     "name": "stdout",
     "output_type": "stream",
     "text": [
      "La stringa corrisponde al pattern.\n"
     ]
    }
   ],
   "source": [
    "# 19. **Scrivere un listato** che esca se una stringa non corrisponde a un pattern, usando `re.match()`\n",
    "\n",
    "import re\n",
    "string = input(\"Inserisci una stringa: \")\n",
    "\n",
    "pattern = r\"^ciao\"  # Definisci un pattern, ad esempio, inizia con \"ciao\"\n",
    "if not re.match(pattern, string):\n",
    "    print(\"La stringa non corrisponde al pattern. Uscita dal programma.\")\n",
    "    exit()\n",
    "else:\n",
    "    print(\"La stringa corrisponde al pattern.\")"
   ]
  },
  {
   "cell_type": "markdown",
   "id": "d6e0bb21",
   "metadata": {},
   "source": [
    "\n",
    "20. **Verificare se una stringa corrisponde a un pattern**, ignorando la differenza tra maiuscole e minuscole con `re.IGNORECASE`\n"
   ]
  },
  {
   "cell_type": "code",
   "execution_count": null,
   "id": "640bbe6a",
   "metadata": {},
   "outputs": [
    {
     "name": "stdout",
     "output_type": "stream",
     "text": [
      "La stringa corrisponde al pattern (ignorando maiuscole e minuscole).\n"
     ]
    }
   ],
   "source": [
    "string = input(\"Inserisci una stringa: \")\n",
    "pattern = r\"^Ciao\"  # Definisci un pattern, ad esempio, inizia con \"Ciao\"\n",
    "\n",
    "if re.match(pattern, string, re.IGNORECASE):\n",
    "    print(\"La stringa corrisponde al pattern (ignorando maiuscole e minuscole).\")\n",
    "else:\n",
    "    print(\"La stringa non corrisponde al pattern (ignorando maiuscole e minuscole).\")"
   ]
  },
  {
   "cell_type": "markdown",
   "id": "6a3a9dbc",
   "metadata": {},
   "source": [
    "\n",
    "21. **Qual è il metodo da utilizzare se si vuole cercare una corrispondenza all'inizio della stringa?**\n"
   ]
  },
  {
   "cell_type": "markdown",
   "id": "2dcd0367",
   "metadata": {},
   "source": [
    "re.match(pattern, string, flags=0)"
   ]
  },
  {
   "cell_type": "markdown",
   "id": "b3cda27d",
   "metadata": {},
   "source": [
    "\n",
    "22. **Qual è il metodo da utilizzare se si vuole cercare una corrispondenza esatta con l'intera stringa?**\n"
   ]
  },
  {
   "cell_type": "markdown",
   "id": "4fd7edea",
   "metadata": {},
   "source": [
    "re.fullmatch(pattern, string, flags=0)"
   ]
  },
  {
   "cell_type": "markdown",
   "id": "a5642cde",
   "metadata": {},
   "source": [
    "\n",
    "23. **Quale metodo utilizzare per sostituire tutte le occorrenze della regex con un'altra stringa?**\n"
   ]
  },
  {
   "cell_type": "markdown",
   "id": "e565ada6",
   "metadata": {},
   "source": [
    "re.finditer(pattern, string, flags=0)"
   ]
  },
  {
   "cell_type": "markdown",
   "id": "0957ad11",
   "metadata": {},
   "source": [
    "\n",
    "24. **Qual è l'opzione da utilizzare per impostare la ricerca dot‑all?**\n"
   ]
  },
  {
   "cell_type": "markdown",
   "id": "df6a13fb",
   "metadata": {},
   "source": [
    "Re.DOTALL"
   ]
  },
  {
   "cell_type": "markdown",
   "id": "855208ed",
   "metadata": {},
   "source": [
    "\n",
    "25. **Qual è l'opzione da utilizzare per impostare l'uso del flag UNICODE?**\n"
   ]
  },
  {
   "cell_type": "markdown",
   "id": "043f79f3",
   "metadata": {},
   "source": [
    "RE.UNICODE"
   ]
  },
  {
   "cell_type": "markdown",
   "id": "47914350",
   "metadata": {},
   "source": [
    "\n",
    "26. **Quale metodo utilizzare per trovare tutte le corrispondenze della regex in una stringa?**\n"
   ]
  },
  {
   "cell_type": "markdown",
   "id": "ec5e8146",
   "metadata": {},
   "source": [
    "re.findall(pattern, string, flags=...)"
   ]
  },
  {
   "cell_type": "markdown",
   "id": "69221c4b",
   "metadata": {},
   "source": [
    "\n",
    "27. **Cosa fa il metodo `re.escape()`?**\n"
   ]
  },
  {
   "cell_type": "markdown",
   "id": "0446d0a2",
   "metadata": {},
   "source": [
    "Escapa i caratteri speciali in una stringa, rendendoli letterali per la regex."
   ]
  },
  {
   "cell_type": "markdown",
   "id": "3ab2dabf",
   "metadata": {},
   "source": [
    "\n",
    "28. **Cosa fa il metodo `re.purge()`?**\n"
   ]
  },
  {
   "cell_type": "markdown",
   "id": "57b7bf34",
   "metadata": {},
   "source": [
    "Svuota la cache delle espressioni regolari compilate."
   ]
  },
  {
   "cell_type": "markdown",
   "id": "8e1e77c8",
   "metadata": {},
   "source": [
    "\n",
    "29. **Qual è l'opzione da utilizzare per impostare la ricerca multilinea?**\n"
   ]
  },
  {
   "cell_type": "markdown",
   "id": "ed5bcbb1",
   "metadata": {},
   "source": [
    "re.MULTILINE"
   ]
  },
  {
   "cell_type": "markdown",
   "id": "a4737f53",
   "metadata": {},
   "source": [
    "\n",
    "30. **Correggere il listato** in modo che l’utente possa inserire una parola cattiva e una parola buona. Il listato dovrà creare un oggetto regex che cerchi la parola cattiva nel testo, ignorando maiuscole e minuscole, e la sostituisca con la parola buona:\n",
    "\n",
    "```python\n",
    "import re\n",
    "text = \"Questo è un testo con una parola cattiva, ma possiamo cambiarla con una buona.\"\n",
    "cattiva = input(\"Inserisci la parola che vuoi cambiare: \")\n",
    "buona   = input(\"Inserisci la parola che subentrerà: \")\n",
    "patt    = re.compile(r'\\\\b{}\\\\b'.format(re.escape(cattiva)), re.IGNORECASE)\n",
    "nuovo   = patt.sub(buona, text)\n",
    "print(\"Il nuovo testo è:\\n{}\".format(nuovo))\n",
    "```\n"
   ]
  },
  {
   "cell_type": "code",
   "execution_count": 8,
   "id": "8917fca6",
   "metadata": {},
   "outputs": [
    {
     "name": "stdout",
     "output_type": "stream",
     "text": [
      "Il nuovo testo è:\n",
      "Questo è un testo con una parola buona, ma possiamo cambiarla con una buona.\n"
     ]
    }
   ],
   "source": [
    "\n",
    "text = \"Questo è un testo con una parola cattiva, ma possiamo cambiarla con una buona.\"\n",
    "cattiva = input(\"Inserisci la parola che vuoi cambiare: \")\n",
    "buona = input(\"Inserisci la parola che subentrerà: \")\n",
    "patt = re.compile(r'\\b{}\\b'.format(re.escape(cattiva)), re.IGNORECASE) #nuova pattern\n",
    "nuovo = patt.sub(buona, text)\n",
    "print(\"Il nuovo testo è:\\n{}\".format(nuovo))\n"
   ]
  },
  {
   "cell_type": "markdown",
   "id": "edf22234",
   "metadata": {},
   "source": [
    "# Esercizi di Django"
   ]
  },
  {
   "attachments": {
    "image-2.png": {
     "image/png": "[encoded data removed]"
    },
    "image.png": {
     "image/png": "[encoded data removed]"
    }
   },
   "cell_type": "markdown",
   "id": "8b673e50",
   "metadata": {},
   "source": [
    "![image.png](attachment:image.png)\n",
    "![image-2.png](attachment:image-2.png)"
   ]
  },
  {
   "cell_type": "markdown",
   "id": "26cc1ed8",
   "metadata": {},
   "source": []
  }
 ],
 "metadata": {
  "kernelspec": {
   "display_name": "Python 3",
   "language": "python",
   "name": "python3"
  },
  "language_info": {
   "codemirror_mode": {
    "name": "ipython",
    "version": 3
   },
   "file_extension": ".py",
   "mimetype": "text/x-python",
   "name": "python",
   "nbconvert_exporter": "python",
   "pygments_lexer": "ipython3",
   "version": "3.11.9"
  }
 },
 "nbformat": 4,
 "nbformat_minor": 5
}
