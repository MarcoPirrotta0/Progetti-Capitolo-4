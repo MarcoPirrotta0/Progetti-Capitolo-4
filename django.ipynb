{
 "cells": [
  {
   "cell_type": "markdown",
   "id": "e64f923b",
   "metadata": {},
   "source": [
    "# Django"
   ]
  },
  {
   "cell_type": "markdown",
   "id": "c38de9ed",
   "metadata": {},
   "source": [
    "creare un nuovo progetto: `django-admin startproject nome_del progetto`  \n",
    "creare una nuova app Django: `python manage.py startapp nome_dell_app`, in questo caso manage.py si trova in ecommerce e il nome dell'app è il nome della cartella (il nome del progetto e dell'app devono essere diversi)  \n",
    "creare un nuovo modello: inizializzare una nuova classe nel file `models.py` dell'app  \n",
    "creare una vista: creare una funzione dentro il file `views.py` dell'app  \n",
    "nuovo template django: basta creare un nuovo file HTML nella cartella dell'app  \n",
    "creare una nuova rotta URL: definirla nel file `urls.py`  \n",
    "configurare il database: modificare il file `settings.py` del progetto  \n",
    "lanciare il server: `python manage.py runserver`  \n",
    "per eseguire le migrazioni del database:\n",
    "```\n",
    "python manage.py makemigrations\n",
    "python manage.py migrate\n",
    "```\n",
    "creare un utente amministratore: `python manage.py createsuperuser`"
   ]
  },
  {
   "cell_type": "markdown",
   "id": "05110e3b",
   "metadata": {},
   "source": [
    "### Progetto\n",
    "- `manage.py`: una utility da linea di comando che ci permette di interagire con il progetto in svariate maniere\n",
    "- `nome_del_progetto/`: è il vero pacchetto python del progetto. Il suo nome è il nome del pacchetto python che dovrò usare per importare qualsiasi cosa dall'interno di esso\n",
    "- `__init__.py`: un file vuoto che indica a Python che questa directory dovrebbe essere considerata un pacchetto Python\n",
    "- `settings.py`: settaggi e configurazioni per questo proggetto Django\n",
    "- `urls.py`: la dichiarazione URL per il progetto Django: è una \"table of contents\" del nostro sito Django.\n",
    "- `asgi.py`: un punto di ingresso per i server web compatibili con ASGI per servire il tuo progetto\n",
    "- `wsgi.py`: un punto d'ingresso per web server compatibili co nWSGI per servire il tuo progetto"
   ]
  },
  {
   "cell_type": "markdown",
   "id": "36ee337a",
   "metadata": {},
   "source": [
    "### Passi\n",
    "0) istallare Django\n",
    "1) creare il nuovo progetto: `django-admin startproject nome_progetto`\n",
    "2) eseguire le migrazioni: `python manage.py makemigrations` + `python manage.py migrate`\n",
    "3) avviare il server: `python manage.py runserver`\n",
    "4) creare un'app: `python manage.py startapp nome_app`\n",
    "5) aggiungi l'app dentro `settings.py` in `INSTALLED_APPS`\n",
    "```\n",
    "INSTALLED_APPS = [\n",
    "    ...\n",
    "    'nome_app',\n",
    "]\n",
    "```\n",
    "6) creare le viste e le URL:  \n",
    "in `views.py`\n",
    "```\n",
    "from django.shortcuts import render\n",
    "def home(request):\n",
    "    return render(request, 'home.html')\n",
    "```\n",
    "in `nome_app/urls.py`\n",
    "```\n",
    "from django.urls import path\n",
    "from . import views\n",
    "\n",
    "urlpatterns = [\n",
    "    path('', views.home, name='home'),\n",
    "]\n",
    "```\n",
    "Collegare le url in `nome_progetto/urls.py`\n",
    "```\n",
    "from django.contrib import admin\n",
    "from django.urls import path, include\n",
    "\n",
    "urlpatterns = [\n",
    "    path('admin/', admin.site.urls),\n",
    "    path('', include('nome_app.urls')), # così le include tutte\n",
    "]\n",
    "```\n",
    "7) in `models.py`, ogni volta che si crea un modello applicare le migrazioni:  \n",
    "```\n",
    "from django.db import models\n",
    "class Articolo(models.Model):\n",
    "    titolo = models.CharField(max_length=100)\n",
    "    contenuto = models.TextField()\n",
    "```\n",
    "8) personalizzare il pannello admin in `admin.py`, puoi creare un superuser con `python manage.py createsuperuser`. Accedere a `http://127.0.0.1:8000/admin/`\n",
    "```\n",
    "from django.contrib import admin\n",
    "from .models import Articolo\n",
    "\n",
    "admin.site.register(Articolo)\n",
    "```\n",
    "9) possiamo usare diversi template html per esempio in `views.py` per l'home. Creare una cartella `templates` in `nome_app` e aggiungere i file html li dentro.\n",
    "```\n",
    "from django.shortcuts import render\n",
    "\n",
    "def home(request):\n",
    "    return render(request, 'home.html')\n",
    "\n",
    "```\n",
    "10) quando si vuole mettere il sito online mettere il `DEBUG=False` in `settings.py` e configurare gli `ALLOWED_HOSTS`\n",
    "11) Django fa gli aggiornamenti automatici, quindi basta far partire il server una volta"
   ]
  }
 ],
 "metadata": {
  "kernelspec": {
   "display_name": "Python 3",
   "language": "python",
   "name": "python3"
  },
  "language_info": {
   "name": "python",
   "version": "3.11.9"
  }
 },
 "nbformat": 4,
 "nbformat_minor": 5
}
